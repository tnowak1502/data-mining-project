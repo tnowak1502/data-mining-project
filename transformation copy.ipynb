{
 "cells": [
  {
   "cell_type": "code",
   "execution_count": 1,
   "metadata": {},
   "outputs": [],
   "source": [
    "import numpy as np\n",
    "import pandas as pd\n",
    "from sklearn.feature_extraction.text import CountVectorizer, TfidfVectorizer\n",
    "from gensim.models import Doc2Vec\n",
    "from gensim.models.doc2vec import TaggedDocument\n",
    "import scipy.sparse\n",
    "import tensorflow_hub as hub\n",
    "import pickle\n",
    "from tqdm import tqdm\n",
    "from sklearn import utils\n",
    "import multiprocessing\n",
    "from nltk.tokenize import word_tokenize\n",
    "import json\n",
    "import numpy as np\n",
    "import scipy.sparse\n",
    "from sklearn.model_selection import KFold, GridSearchCV, RandomizedSearchCV\n",
    "from sklearn.svm import SVC\n",
    "from sklearn.model_selection import GridSearchCV\n",
    "from sklearn.linear_model import LogisticRegression\n",
    "from sklearn.naive_bayes import MultinomialNB\n",
    "from sklearn.metrics import confusion_matrix, accuracy_score, roc_auc_score, f1_score, ConfusionMatrixDisplay, precision_score, recall_score\n",
    "import pickle\n",
    "import tensorflow_hub as hub\n",
    "import pickle\n",
    "import matplotlib.pyplot as plt\n",
    "import json\n",
    "from sklearn.pipeline import Pipeline, TransformerMixin"
   ]
  },
  {
   "cell_type": "markdown",
   "metadata": {},
   "source": [
    "## Read Inputs"
   ]
  },
  {
   "cell_type": "code",
   "execution_count": 2,
   "metadata": {},
   "outputs": [],
   "source": [
    "texts = pd.read_csv(\"preprocessed_texts.csv\")\n",
    "labels = np.load(\"preprocessed_labels.npy\", allow_pickle = True)\n",
    "texts = texts.assign(label = labels)"
   ]
  },
  {
   "cell_type": "markdown",
   "metadata": {},
   "source": [
    "## Transformation"
   ]
  },
  {
   "cell_type": "markdown",
   "metadata": {},
   "source": [
    "Configuration for Transformation"
   ]
  },
  {
   "cell_type": "code",
   "execution_count": 3,
   "metadata": {},
   "outputs": [],
   "source": [
    "# TF-IDF | CountVectorization | BERT | DOC2VEC\n",
    "method = \"TF-IDF\"\n",
    "dimension = 200 # Doc2Vec vector dimension\n",
    "epochs = 10 # Doc2Vec training epochs\n",
    "min_df = 0.001 # TF-IDF min df\n",
    "max_df = 0.9 # TF-IDF max df\n",
    "use_idf = False\n",
    "outer_splits = 5\n",
    "inner_splits = 5\n",
    "random_iterations = 10\n",
    "param_grid = {\n",
    "    \"logistic__C\": list(np.logspace(-3,3,4)), \n",
    "    \"logistic__penalty\": [\"l2\"],\n",
    "    \"vectorizer__min_df\": [0.1, 0.01, 0.001],\n",
    "    \"vectorizer__max_df\": [0.5, 0.7,0.9],\n",
    "    \"vectorizer__use_idf\": [True, False],\n",
    "    \"doc2vec__doc_vec_transformer__kw_args\": [{\"dimension\": 50}, {\"dimension\": 200}],\n",
    "    \"bayes__alpha\": [0.01, 0.1, 0.5, 1, 10],\n",
    "    \"svm__C\": [1, 10, 100, 1000], \n",
    "    \"svm__gamma\": [.001, .01, .1, 1]\n",
    "    }\n",
    "\n",
    "with open('config.json', 'r') as openfile:\n",
    "    json_object = json.load(openfile)\n",
    "    json_object[\"transformation_method\"] = method\n",
    "    json_object[\"doc2vec_dimension\"] = dimension\n",
    "    json_object[\"doc2vec_epochs\"] = epochs\n",
    "    json_object[\"min_df\"] = min_df\n",
    "    json_object[\"max_df\"] = max_df\n",
    "    json_object[\"use_idf\"] = use_idf\n",
    "    json_object[\"outer_splits\"] = outer_splits\n",
    "    json_object[\"innter_splits\"] = inner_splits\n",
    "    json_object[\"param_grid\"] = param_grid\n",
    "with open(\"config.json\", \"w\") as outfile:\n",
    "    outfile.write(json.dumps(json_object))"
   ]
  },
  {
   "cell_type": "markdown",
   "metadata": {},
   "source": [
    "#### Count Vectorization\n",
    "We cannot use this vectorization methods because the fake news differ in the length of texts from the true news"
   ]
  },
  {
   "cell_type": "code",
   "execution_count": 7,
   "metadata": {},
   "outputs": [],
   "source": [
    "if method == \"CountVectorization\":\n",
    "    vectorizer = CountVectorizer(analyzer=\"word\")\n",
    "    all_tokens = vectorizer.fit_transform(texts)"
   ]
  },
  {
   "cell_type": "markdown",
   "metadata": {},
   "source": [
    "#### TF-IDF Vectorization"
   ]
  },
  {
   "cell_type": "code",
   "execution_count": 4,
   "metadata": {},
   "outputs": [],
   "source": [
    "inner_cv = KFold(n_splits=inner_splits, shuffle=True, random_state=42)\n",
    "outer_cv = KFold(n_splits=outer_splits, shuffle=True, random_state=42)\n",
    "vectorizer = TfidfVectorizer()"
   ]
  },
  {
   "cell_type": "code",
   "execution_count": 6,
   "metadata": {},
   "outputs": [
    {
     "name": "stdout",
     "output_type": "stream",
     "text": [
      "CV run 1\n",
      "Get data\n",
      "Perform Randomized Grid Search\n",
      "Fitting 5 folds for each of 54 candidates, totalling 270 fits\n"
     ]
    },
    {
     "ename": "KeyboardInterrupt",
     "evalue": "",
     "output_type": "error",
     "traceback": [
      "\u001b[1;31m---------------------------------------------------------------------------\u001b[0m",
      "\u001b[1;31mKeyboardInterrupt\u001b[0m                         Traceback (most recent call last)",
      "\u001b[1;32mc:\\Users\\nicla\\Documents\\Data Mining Project\\data-mining-project\\transformation.ipynb Cell 11'\u001b[0m in \u001b[0;36m<cell line: 16>\u001b[1;34m()\u001b[0m\n\u001b[0;32m     <a href='vscode-notebook-cell:/c%3A/Users/nicla/Documents/Data%20Mining%20Project/data-mining-project/transformation.ipynb#ch0000010?line=19'>20</a>\u001b[0m y_train, y_test \u001b[39m=\u001b[39m labels[train_index], labels[test_index]\n\u001b[0;32m     <a href='vscode-notebook-cell:/c%3A/Users/nicla/Documents/Data%20Mining%20Project/data-mining-project/transformation.ipynb#ch0000010?line=20'>21</a>\u001b[0m \u001b[39mprint\u001b[39m(\u001b[39m\"\u001b[39m\u001b[39mPerform Randomized Grid Search\u001b[39m\u001b[39m\"\u001b[39m)\n\u001b[1;32m---> <a href='vscode-notebook-cell:/c%3A/Users/nicla/Documents/Data%20Mining%20Project/data-mining-project/transformation.ipynb#ch0000010?line=21'>22</a>\u001b[0m clf\u001b[39m.\u001b[39;49mfit(X_train, y_train)\n\u001b[0;32m     <a href='vscode-notebook-cell:/c%3A/Users/nicla/Documents/Data%20Mining%20Project/data-mining-project/transformation.ipynb#ch0000010?line=22'>23</a>\u001b[0m \u001b[39mprint\u001b[39m(\u001b[39m\"\u001b[39m\u001b[39mBest model:\u001b[39m\u001b[39m\"\u001b[39m)\n\u001b[0;32m     <a href='vscode-notebook-cell:/c%3A/Users/nicla/Documents/Data%20Mining%20Project/data-mining-project/transformation.ipynb#ch0000010?line=23'>24</a>\u001b[0m \u001b[39mprint\u001b[39m(\u001b[39m\"\u001b[39m\u001b[39mAccuracy: \u001b[39m\u001b[39m\"\u001b[39m \u001b[39m+\u001b[39m \u001b[39mstr\u001b[39m(clf\u001b[39m.\u001b[39mbest_score_))\n",
      "File \u001b[1;32mc:\\Users\\nicla\\anaconda3\\envs\\classification\\lib\\site-packages\\sklearn\\model_selection\\_search.py:891\u001b[0m, in \u001b[0;36mBaseSearchCV.fit\u001b[1;34m(self, X, y, groups, **fit_params)\u001b[0m\n\u001b[0;32m    <a href='file:///c%3A/Users/nicla/anaconda3/envs/classification/lib/site-packages/sklearn/model_selection/_search.py?line=884'>885</a>\u001b[0m     results \u001b[39m=\u001b[39m \u001b[39mself\u001b[39m\u001b[39m.\u001b[39m_format_results(\n\u001b[0;32m    <a href='file:///c%3A/Users/nicla/anaconda3/envs/classification/lib/site-packages/sklearn/model_selection/_search.py?line=885'>886</a>\u001b[0m         all_candidate_params, n_splits, all_out, all_more_results\n\u001b[0;32m    <a href='file:///c%3A/Users/nicla/anaconda3/envs/classification/lib/site-packages/sklearn/model_selection/_search.py?line=886'>887</a>\u001b[0m     )\n\u001b[0;32m    <a href='file:///c%3A/Users/nicla/anaconda3/envs/classification/lib/site-packages/sklearn/model_selection/_search.py?line=888'>889</a>\u001b[0m     \u001b[39mreturn\u001b[39;00m results\n\u001b[1;32m--> <a href='file:///c%3A/Users/nicla/anaconda3/envs/classification/lib/site-packages/sklearn/model_selection/_search.py?line=890'>891</a>\u001b[0m \u001b[39mself\u001b[39;49m\u001b[39m.\u001b[39;49m_run_search(evaluate_candidates)\n\u001b[0;32m    <a href='file:///c%3A/Users/nicla/anaconda3/envs/classification/lib/site-packages/sklearn/model_selection/_search.py?line=892'>893</a>\u001b[0m \u001b[39m# multimetric is determined here because in the case of a callable\u001b[39;00m\n\u001b[0;32m    <a href='file:///c%3A/Users/nicla/anaconda3/envs/classification/lib/site-packages/sklearn/model_selection/_search.py?line=893'>894</a>\u001b[0m \u001b[39m# self.scoring the return type is only known after calling\u001b[39;00m\n\u001b[0;32m    <a href='file:///c%3A/Users/nicla/anaconda3/envs/classification/lib/site-packages/sklearn/model_selection/_search.py?line=894'>895</a>\u001b[0m first_test_score \u001b[39m=\u001b[39m all_out[\u001b[39m0\u001b[39m][\u001b[39m\"\u001b[39m\u001b[39mtest_scores\u001b[39m\u001b[39m\"\u001b[39m]\n",
      "File \u001b[1;32mc:\\Users\\nicla\\anaconda3\\envs\\classification\\lib\\site-packages\\sklearn\\model_selection\\_search.py:1392\u001b[0m, in \u001b[0;36mGridSearchCV._run_search\u001b[1;34m(self, evaluate_candidates)\u001b[0m\n\u001b[0;32m   <a href='file:///c%3A/Users/nicla/anaconda3/envs/classification/lib/site-packages/sklearn/model_selection/_search.py?line=1389'>1390</a>\u001b[0m \u001b[39mdef\u001b[39;00m \u001b[39m_run_search\u001b[39m(\u001b[39mself\u001b[39m, evaluate_candidates):\n\u001b[0;32m   <a href='file:///c%3A/Users/nicla/anaconda3/envs/classification/lib/site-packages/sklearn/model_selection/_search.py?line=1390'>1391</a>\u001b[0m     \u001b[39m\"\"\"Search all candidates in param_grid\"\"\"\u001b[39;00m\n\u001b[1;32m-> <a href='file:///c%3A/Users/nicla/anaconda3/envs/classification/lib/site-packages/sklearn/model_selection/_search.py?line=1391'>1392</a>\u001b[0m     evaluate_candidates(ParameterGrid(\u001b[39mself\u001b[39;49m\u001b[39m.\u001b[39;49mparam_grid))\n",
      "File \u001b[1;32mc:\\Users\\nicla\\anaconda3\\envs\\classification\\lib\\site-packages\\sklearn\\model_selection\\_search.py:838\u001b[0m, in \u001b[0;36mBaseSearchCV.fit.<locals>.evaluate_candidates\u001b[1;34m(candidate_params, cv, more_results)\u001b[0m\n\u001b[0;32m    <a href='file:///c%3A/Users/nicla/anaconda3/envs/classification/lib/site-packages/sklearn/model_selection/_search.py?line=829'>830</a>\u001b[0m \u001b[39mif\u001b[39;00m \u001b[39mself\u001b[39m\u001b[39m.\u001b[39mverbose \u001b[39m>\u001b[39m \u001b[39m0\u001b[39m:\n\u001b[0;32m    <a href='file:///c%3A/Users/nicla/anaconda3/envs/classification/lib/site-packages/sklearn/model_selection/_search.py?line=830'>831</a>\u001b[0m     \u001b[39mprint\u001b[39m(\n\u001b[0;32m    <a href='file:///c%3A/Users/nicla/anaconda3/envs/classification/lib/site-packages/sklearn/model_selection/_search.py?line=831'>832</a>\u001b[0m         \u001b[39m\"\u001b[39m\u001b[39mFitting \u001b[39m\u001b[39m{0}\u001b[39;00m\u001b[39m folds for each of \u001b[39m\u001b[39m{1}\u001b[39;00m\u001b[39m candidates,\u001b[39m\u001b[39m\"\u001b[39m\n\u001b[0;32m    <a href='file:///c%3A/Users/nicla/anaconda3/envs/classification/lib/site-packages/sklearn/model_selection/_search.py?line=832'>833</a>\u001b[0m         \u001b[39m\"\u001b[39m\u001b[39m totalling \u001b[39m\u001b[39m{2}\u001b[39;00m\u001b[39m fits\u001b[39m\u001b[39m\"\u001b[39m\u001b[39m.\u001b[39mformat(\n\u001b[0;32m    <a href='file:///c%3A/Users/nicla/anaconda3/envs/classification/lib/site-packages/sklearn/model_selection/_search.py?line=833'>834</a>\u001b[0m             n_splits, n_candidates, n_candidates \u001b[39m*\u001b[39m n_splits\n\u001b[0;32m    <a href='file:///c%3A/Users/nicla/anaconda3/envs/classification/lib/site-packages/sklearn/model_selection/_search.py?line=834'>835</a>\u001b[0m         )\n\u001b[0;32m    <a href='file:///c%3A/Users/nicla/anaconda3/envs/classification/lib/site-packages/sklearn/model_selection/_search.py?line=835'>836</a>\u001b[0m     )\n\u001b[1;32m--> <a href='file:///c%3A/Users/nicla/anaconda3/envs/classification/lib/site-packages/sklearn/model_selection/_search.py?line=837'>838</a>\u001b[0m out \u001b[39m=\u001b[39m parallel(\n\u001b[0;32m    <a href='file:///c%3A/Users/nicla/anaconda3/envs/classification/lib/site-packages/sklearn/model_selection/_search.py?line=838'>839</a>\u001b[0m     delayed(_fit_and_score)(\n\u001b[0;32m    <a href='file:///c%3A/Users/nicla/anaconda3/envs/classification/lib/site-packages/sklearn/model_selection/_search.py?line=839'>840</a>\u001b[0m         clone(base_estimator),\n\u001b[0;32m    <a href='file:///c%3A/Users/nicla/anaconda3/envs/classification/lib/site-packages/sklearn/model_selection/_search.py?line=840'>841</a>\u001b[0m         X,\n\u001b[0;32m    <a href='file:///c%3A/Users/nicla/anaconda3/envs/classification/lib/site-packages/sklearn/model_selection/_search.py?line=841'>842</a>\u001b[0m         y,\n\u001b[0;32m    <a href='file:///c%3A/Users/nicla/anaconda3/envs/classification/lib/site-packages/sklearn/model_selection/_search.py?line=842'>843</a>\u001b[0m         train\u001b[39m=\u001b[39;49mtrain,\n\u001b[0;32m    <a href='file:///c%3A/Users/nicla/anaconda3/envs/classification/lib/site-packages/sklearn/model_selection/_search.py?line=843'>844</a>\u001b[0m         test\u001b[39m=\u001b[39;49mtest,\n\u001b[0;32m    <a href='file:///c%3A/Users/nicla/anaconda3/envs/classification/lib/site-packages/sklearn/model_selection/_search.py?line=844'>845</a>\u001b[0m         parameters\u001b[39m=\u001b[39;49mparameters,\n\u001b[0;32m    <a href='file:///c%3A/Users/nicla/anaconda3/envs/classification/lib/site-packages/sklearn/model_selection/_search.py?line=845'>846</a>\u001b[0m         split_progress\u001b[39m=\u001b[39;49m(split_idx, n_splits),\n\u001b[0;32m    <a href='file:///c%3A/Users/nicla/anaconda3/envs/classification/lib/site-packages/sklearn/model_selection/_search.py?line=846'>847</a>\u001b[0m         candidate_progress\u001b[39m=\u001b[39;49m(cand_idx, n_candidates),\n\u001b[0;32m    <a href='file:///c%3A/Users/nicla/anaconda3/envs/classification/lib/site-packages/sklearn/model_selection/_search.py?line=847'>848</a>\u001b[0m         \u001b[39m*\u001b[39;49m\u001b[39m*\u001b[39;49mfit_and_score_kwargs,\n\u001b[0;32m    <a href='file:///c%3A/Users/nicla/anaconda3/envs/classification/lib/site-packages/sklearn/model_selection/_search.py?line=848'>849</a>\u001b[0m     )\n\u001b[0;32m    <a href='file:///c%3A/Users/nicla/anaconda3/envs/classification/lib/site-packages/sklearn/model_selection/_search.py?line=849'>850</a>\u001b[0m     \u001b[39mfor\u001b[39;49;00m (cand_idx, parameters), (split_idx, (train, test)) \u001b[39min\u001b[39;49;00m product(\n\u001b[0;32m    <a href='file:///c%3A/Users/nicla/anaconda3/envs/classification/lib/site-packages/sklearn/model_selection/_search.py?line=850'>851</a>\u001b[0m         \u001b[39menumerate\u001b[39;49m(candidate_params), \u001b[39menumerate\u001b[39;49m(cv\u001b[39m.\u001b[39;49msplit(X, y, groups))\n\u001b[0;32m    <a href='file:///c%3A/Users/nicla/anaconda3/envs/classification/lib/site-packages/sklearn/model_selection/_search.py?line=851'>852</a>\u001b[0m     )\n\u001b[0;32m    <a href='file:///c%3A/Users/nicla/anaconda3/envs/classification/lib/site-packages/sklearn/model_selection/_search.py?line=852'>853</a>\u001b[0m )\n\u001b[0;32m    <a href='file:///c%3A/Users/nicla/anaconda3/envs/classification/lib/site-packages/sklearn/model_selection/_search.py?line=854'>855</a>\u001b[0m \u001b[39mif\u001b[39;00m \u001b[39mlen\u001b[39m(out) \u001b[39m<\u001b[39m \u001b[39m1\u001b[39m:\n\u001b[0;32m    <a href='file:///c%3A/Users/nicla/anaconda3/envs/classification/lib/site-packages/sklearn/model_selection/_search.py?line=855'>856</a>\u001b[0m     \u001b[39mraise\u001b[39;00m \u001b[39mValueError\u001b[39;00m(\n\u001b[0;32m    <a href='file:///c%3A/Users/nicla/anaconda3/envs/classification/lib/site-packages/sklearn/model_selection/_search.py?line=856'>857</a>\u001b[0m         \u001b[39m\"\u001b[39m\u001b[39mNo fits were performed. \u001b[39m\u001b[39m\"\u001b[39m\n\u001b[0;32m    <a href='file:///c%3A/Users/nicla/anaconda3/envs/classification/lib/site-packages/sklearn/model_selection/_search.py?line=857'>858</a>\u001b[0m         \u001b[39m\"\u001b[39m\u001b[39mWas the CV iterator empty? \u001b[39m\u001b[39m\"\u001b[39m\n\u001b[0;32m    <a href='file:///c%3A/Users/nicla/anaconda3/envs/classification/lib/site-packages/sklearn/model_selection/_search.py?line=858'>859</a>\u001b[0m         \u001b[39m\"\u001b[39m\u001b[39mWere there no candidates?\u001b[39m\u001b[39m\"\u001b[39m\n\u001b[0;32m    <a href='file:///c%3A/Users/nicla/anaconda3/envs/classification/lib/site-packages/sklearn/model_selection/_search.py?line=859'>860</a>\u001b[0m     )\n",
      "File \u001b[1;32mc:\\Users\\nicla\\anaconda3\\envs\\classification\\lib\\site-packages\\joblib\\parallel.py:1056\u001b[0m, in \u001b[0;36mParallel.__call__\u001b[1;34m(self, iterable)\u001b[0m\n\u001b[0;32m   <a href='file:///c%3A/Users/nicla/anaconda3/envs/classification/lib/site-packages/joblib/parallel.py?line=1052'>1053</a>\u001b[0m     \u001b[39mself\u001b[39m\u001b[39m.\u001b[39m_iterating \u001b[39m=\u001b[39m \u001b[39mFalse\u001b[39;00m\n\u001b[0;32m   <a href='file:///c%3A/Users/nicla/anaconda3/envs/classification/lib/site-packages/joblib/parallel.py?line=1054'>1055</a>\u001b[0m \u001b[39mwith\u001b[39;00m \u001b[39mself\u001b[39m\u001b[39m.\u001b[39m_backend\u001b[39m.\u001b[39mretrieval_context():\n\u001b[1;32m-> <a href='file:///c%3A/Users/nicla/anaconda3/envs/classification/lib/site-packages/joblib/parallel.py?line=1055'>1056</a>\u001b[0m     \u001b[39mself\u001b[39;49m\u001b[39m.\u001b[39;49mretrieve()\n\u001b[0;32m   <a href='file:///c%3A/Users/nicla/anaconda3/envs/classification/lib/site-packages/joblib/parallel.py?line=1056'>1057</a>\u001b[0m \u001b[39m# Make sure that we get a last message telling us we are done\u001b[39;00m\n\u001b[0;32m   <a href='file:///c%3A/Users/nicla/anaconda3/envs/classification/lib/site-packages/joblib/parallel.py?line=1057'>1058</a>\u001b[0m elapsed_time \u001b[39m=\u001b[39m time\u001b[39m.\u001b[39mtime() \u001b[39m-\u001b[39m \u001b[39mself\u001b[39m\u001b[39m.\u001b[39m_start_time\n",
      "File \u001b[1;32mc:\\Users\\nicla\\anaconda3\\envs\\classification\\lib\\site-packages\\joblib\\parallel.py:935\u001b[0m, in \u001b[0;36mParallel.retrieve\u001b[1;34m(self)\u001b[0m\n\u001b[0;32m    <a href='file:///c%3A/Users/nicla/anaconda3/envs/classification/lib/site-packages/joblib/parallel.py?line=932'>933</a>\u001b[0m \u001b[39mtry\u001b[39;00m:\n\u001b[0;32m    <a href='file:///c%3A/Users/nicla/anaconda3/envs/classification/lib/site-packages/joblib/parallel.py?line=933'>934</a>\u001b[0m     \u001b[39mif\u001b[39;00m \u001b[39mgetattr\u001b[39m(\u001b[39mself\u001b[39m\u001b[39m.\u001b[39m_backend, \u001b[39m'\u001b[39m\u001b[39msupports_timeout\u001b[39m\u001b[39m'\u001b[39m, \u001b[39mFalse\u001b[39;00m):\n\u001b[1;32m--> <a href='file:///c%3A/Users/nicla/anaconda3/envs/classification/lib/site-packages/joblib/parallel.py?line=934'>935</a>\u001b[0m         \u001b[39mself\u001b[39m\u001b[39m.\u001b[39m_output\u001b[39m.\u001b[39mextend(job\u001b[39m.\u001b[39;49mget(timeout\u001b[39m=\u001b[39;49m\u001b[39mself\u001b[39;49m\u001b[39m.\u001b[39;49mtimeout))\n\u001b[0;32m    <a href='file:///c%3A/Users/nicla/anaconda3/envs/classification/lib/site-packages/joblib/parallel.py?line=935'>936</a>\u001b[0m     \u001b[39melse\u001b[39;00m:\n\u001b[0;32m    <a href='file:///c%3A/Users/nicla/anaconda3/envs/classification/lib/site-packages/joblib/parallel.py?line=936'>937</a>\u001b[0m         \u001b[39mself\u001b[39m\u001b[39m.\u001b[39m_output\u001b[39m.\u001b[39mextend(job\u001b[39m.\u001b[39mget())\n",
      "File \u001b[1;32mc:\\Users\\nicla\\anaconda3\\envs\\classification\\lib\\site-packages\\joblib\\_parallel_backends.py:542\u001b[0m, in \u001b[0;36mLokyBackend.wrap_future_result\u001b[1;34m(future, timeout)\u001b[0m\n\u001b[0;32m    <a href='file:///c%3A/Users/nicla/anaconda3/envs/classification/lib/site-packages/joblib/_parallel_backends.py?line=538'>539</a>\u001b[0m \u001b[39m\"\"\"Wrapper for Future.result to implement the same behaviour as\u001b[39;00m\n\u001b[0;32m    <a href='file:///c%3A/Users/nicla/anaconda3/envs/classification/lib/site-packages/joblib/_parallel_backends.py?line=539'>540</a>\u001b[0m \u001b[39mAsyncResults.get from multiprocessing.\"\"\"\u001b[39;00m\n\u001b[0;32m    <a href='file:///c%3A/Users/nicla/anaconda3/envs/classification/lib/site-packages/joblib/_parallel_backends.py?line=540'>541</a>\u001b[0m \u001b[39mtry\u001b[39;00m:\n\u001b[1;32m--> <a href='file:///c%3A/Users/nicla/anaconda3/envs/classification/lib/site-packages/joblib/_parallel_backends.py?line=541'>542</a>\u001b[0m     \u001b[39mreturn\u001b[39;00m future\u001b[39m.\u001b[39;49mresult(timeout\u001b[39m=\u001b[39;49mtimeout)\n\u001b[0;32m    <a href='file:///c%3A/Users/nicla/anaconda3/envs/classification/lib/site-packages/joblib/_parallel_backends.py?line=542'>543</a>\u001b[0m \u001b[39mexcept\u001b[39;00m CfTimeoutError \u001b[39mas\u001b[39;00m e:\n\u001b[0;32m    <a href='file:///c%3A/Users/nicla/anaconda3/envs/classification/lib/site-packages/joblib/_parallel_backends.py?line=543'>544</a>\u001b[0m     \u001b[39mraise\u001b[39;00m \u001b[39mTimeoutError\u001b[39;00m \u001b[39mfrom\u001b[39;00m \u001b[39me\u001b[39;00m\n",
      "File \u001b[1;32mc:\\Users\\nicla\\anaconda3\\envs\\classification\\lib\\concurrent\\futures\\_base.py:440\u001b[0m, in \u001b[0;36mFuture.result\u001b[1;34m(self, timeout)\u001b[0m\n\u001b[0;32m    <a href='file:///c%3A/Users/nicla/anaconda3/envs/classification/lib/concurrent/futures/_base.py?line=436'>437</a>\u001b[0m \u001b[39melif\u001b[39;00m \u001b[39mself\u001b[39m\u001b[39m.\u001b[39m_state \u001b[39m==\u001b[39m FINISHED:\n\u001b[0;32m    <a href='file:///c%3A/Users/nicla/anaconda3/envs/classification/lib/concurrent/futures/_base.py?line=437'>438</a>\u001b[0m     \u001b[39mreturn\u001b[39;00m \u001b[39mself\u001b[39m\u001b[39m.\u001b[39m__get_result()\n\u001b[1;32m--> <a href='file:///c%3A/Users/nicla/anaconda3/envs/classification/lib/concurrent/futures/_base.py?line=439'>440</a>\u001b[0m \u001b[39mself\u001b[39;49m\u001b[39m.\u001b[39;49m_condition\u001b[39m.\u001b[39;49mwait(timeout)\n\u001b[0;32m    <a href='file:///c%3A/Users/nicla/anaconda3/envs/classification/lib/concurrent/futures/_base.py?line=441'>442</a>\u001b[0m \u001b[39mif\u001b[39;00m \u001b[39mself\u001b[39m\u001b[39m.\u001b[39m_state \u001b[39min\u001b[39;00m [CANCELLED, CANCELLED_AND_NOTIFIED]:\n\u001b[0;32m    <a href='file:///c%3A/Users/nicla/anaconda3/envs/classification/lib/concurrent/futures/_base.py?line=442'>443</a>\u001b[0m     \u001b[39mraise\u001b[39;00m CancelledError()\n",
      "File \u001b[1;32mc:\\Users\\nicla\\anaconda3\\envs\\classification\\lib\\threading.py:312\u001b[0m, in \u001b[0;36mCondition.wait\u001b[1;34m(self, timeout)\u001b[0m\n\u001b[0;32m    <a href='file:///c%3A/Users/nicla/anaconda3/envs/classification/lib/threading.py?line=309'>310</a>\u001b[0m \u001b[39mtry\u001b[39;00m:    \u001b[39m# restore state no matter what (e.g., KeyboardInterrupt)\u001b[39;00m\n\u001b[0;32m    <a href='file:///c%3A/Users/nicla/anaconda3/envs/classification/lib/threading.py?line=310'>311</a>\u001b[0m     \u001b[39mif\u001b[39;00m timeout \u001b[39mis\u001b[39;00m \u001b[39mNone\u001b[39;00m:\n\u001b[1;32m--> <a href='file:///c%3A/Users/nicla/anaconda3/envs/classification/lib/threading.py?line=311'>312</a>\u001b[0m         waiter\u001b[39m.\u001b[39;49macquire()\n\u001b[0;32m    <a href='file:///c%3A/Users/nicla/anaconda3/envs/classification/lib/threading.py?line=312'>313</a>\u001b[0m         gotit \u001b[39m=\u001b[39m \u001b[39mTrue\u001b[39;00m\n\u001b[0;32m    <a href='file:///c%3A/Users/nicla/anaconda3/envs/classification/lib/threading.py?line=313'>314</a>\u001b[0m     \u001b[39melse\u001b[39;00m:\n",
      "\u001b[1;31mKeyboardInterrupt\u001b[0m: "
     ]
    }
   ],
   "source": [
    "logistic_grid = {\n",
    "    \"logistic__C\": [0.01, 0.1, 10], \n",
    "    \"logistic__penalty\": [\"l2\"],\n",
    "    \"vectorizer__min_df\": [0.1, 0.01, 0.001],\n",
    "    \"vectorizer__max_df\": [0.5, 0.7,0.9],\n",
    "    \"vectorizer__use_idf\": [True, False],\n",
    "    }\n",
    "pipeline = Pipeline([(\"vectorizer\", vectorizer), (\"logistic\", LogisticRegression(max_iter=10000))])\n",
    "clf = GridSearchCV(pipeline, logistic_grid, cv=inner_cv, n_jobs=-1, verbose=4)\n",
    "run = 1\n",
    "accuracies = np.zeros(outer_splits)\n",
    "f1s = np.zeros(outer_splits)\n",
    "aucs = np.zeros(outer_splits)\n",
    "precisions = np.zeros(outer_splits)\n",
    "recalls = np.zeros(outer_splits)\n",
    "for train_index, test_index in outer_cv.split(texts[\"text\"]):\n",
    "    print(f\"CV run {run}\")\n",
    "    print(\"Get data\")\n",
    "    X_train, X_test = texts[\"text\"][train_index], texts[\"text\"][test_index]\n",
    "    y_train, y_test = labels[train_index], labels[test_index]\n",
    "    print(\"Perform Randomized Grid Search\")\n",
    "    clf.fit(X_train, y_train)\n",
    "    print(\"Best model:\")\n",
    "    print(\"Accuracy: \" + str(clf.best_score_))\n",
    "    print(clf.best_params_)\n",
    "    predictions = clf.predict(X_test)\n",
    "    accuracy = accuracy_score(y_test, predictions)\n",
    "    f1 = f1_score(y_test, predictions, average=\"binary\")\n",
    "    auroc = roc_auc_score(y_test, predictions)\n",
    "    precision = precision_score(y_test, predictions)\n",
    "    recall = recall_score(y_test, predictions)\n",
    "    accuracies[run-1] = accuracy\n",
    "    f1s[run-1] = f1\n",
    "    aucs[run-1] = auroc\n",
    "    precisions[run-1] = precision\n",
    "    recalls[run-1] = recall\n",
    "    print(f\"Test Accuracy: {accuracy}\")\n",
    "    print(f\"Test F1: {f1}\")\n",
    "    print(f\"Test AUC: {auroc}\")\n",
    "    print(f\"Test precision: {precision}\")\n",
    "    print(f\"Test recall: {recall}\")\n",
    "    cm = confusion_matrix(y_test, predictions, labels = clf.best_estimator_.classes_)\n",
    "    print(cm)\n",
    "    disp = ConfusionMatrixDisplay(confusion_matrix=cm)\n",
    "    disp.plot()\n",
    "    plt.savefig(\"Confusion Matrix Run \" + str(run))\n",
    "    run += 1\n",
    "print(accuracies)\n",
    "print(f\"Mean accuracy: {accuracies.mean()}\")\n",
    "print(f\"Mean f1: {f1}\")\n",
    "print(f\"Mean AUC: {aucs.mean()}\")\n",
    "print(f\"Mean precision: {precisions.mean()}\")\n",
    "print(f\"Mean recall: {recalls.mean()}\")"
   ]
  },
  {
   "cell_type": "code",
   "execution_count": 11,
   "metadata": {},
   "outputs": [
    {
     "name": "stdout",
     "output_type": "stream",
     "text": [
      "CV run 1\n",
      "Get data\n",
      "Perform Randomized Grid Search\n",
      "Fitting 5 folds for each of 90 candidates, totalling 450 fits\n",
      "Best model:\n",
      "Accuracy: 0.930675345648768\n",
      "{'bayes__alpha': 0.01, 'vectorizer__max_df': 0.7, 'vectorizer__min_df': 0.001, 'vectorizer__use_idf': False}\n",
      "Test Accuracy: 0.9288418708240535\n",
      "Test F1: 0.9237379162191192\n",
      "Test AUC: 0.9279377232563611\n",
      "Test precision: 0.9365924491771539\n",
      "Test recall: 0.9112314574994114\n",
      "[[4471  262]\n",
      " [ 377 3870]]\n",
      "CV run 2\n",
      "Get data\n",
      "Perform Randomized Grid Search\n",
      "Fitting 5 folds for each of 90 candidates, totalling 450 fits\n",
      "Best model:\n",
      "Accuracy: 0.9296730370861417\n",
      "{'bayes__alpha': 0.01, 'vectorizer__max_df': 0.5, 'vectorizer__min_df': 0.001, 'vectorizer__use_idf': False}\n",
      "Test Accuracy: 0.9314031180400891\n",
      "Test F1: 0.9272211720226843\n",
      "Test AUC: 0.9306735835190695\n",
      "Test precision: 0.9407815871493647\n",
      "Test recall: 0.9140461215932913\n",
      "[[4440  247]\n",
      " [ 369 3924]]\n",
      "CV run 3\n",
      "Get data\n",
      "Perform Randomized Grid Search\n",
      "Fitting 5 folds for each of 90 candidates, totalling 450 fits\n",
      "Best model:\n",
      "Accuracy: 0.9300350299689907\n",
      "{'bayes__alpha': 0.01, 'vectorizer__max_df': 0.5, 'vectorizer__min_df': 0.001, 'vectorizer__use_idf': False}\n",
      "Test Accuracy: 0.9326280623608018\n",
      "Test F1: 0.9299363057324841\n",
      "Test AUC: 0.9323799121248945\n",
      "Test precision: 0.9350256171401956\n",
      "Test recall: 0.9249020962911771\n",
      "[[4360  279]\n",
      " [ 326 4015]]\n",
      "CV run 4\n",
      "Get data\n",
      "Perform Randomized Grid Search\n",
      "Fitting 5 folds for each of 90 candidates, totalling 450 fits\n",
      "Best model:\n",
      "Accuracy: 0.9305660218525118\n",
      "{'bayes__alpha': 0.01, 'vectorizer__max_df': 0.7, 'vectorizer__min_df': 0.001, 'vectorizer__use_idf': False}\n",
      "Test Accuracy: 0.9289453168504288\n",
      "Test F1: 0.9249764816556915\n",
      "Test AUC: 0.9282958944705565\n",
      "Test precision: 0.9386634844868735\n",
      "Test recall: 0.911682892906815\n",
      "[[4408  257]\n",
      " [ 381 3933]]\n",
      "CV run 5\n",
      "Get data\n",
      "Perform Randomized Grid Search\n",
      "Fitting 5 folds for each of 90 candidates, totalling 450 fits\n",
      "Best model:\n",
      "Accuracy: 0.9310115181632455\n",
      "{'bayes__alpha': 0.01, 'vectorizer__max_df': 0.7, 'vectorizer__min_df': 0.001, 'vectorizer__use_idf': False}\n",
      "Test Accuracy: 0.9308386234547277\n",
      "Test F1: 0.926027397260274\n",
      "Test AUC: 0.9302658965167093\n",
      "Test precision: 0.9314641744548287\n",
      "Test recall: 0.9206537186167693\n",
      "[[4471  286]\n",
      " [ 335 3887]]\n",
      "[0.92884187 0.93140312 0.93262806 0.92894532 0.93083862]\n",
      "Mean accuracy: 0.9305313983060202\n",
      "Mean f1: 0.926027397260274\n",
      "Mean AUC: 0.9299106019775183\n",
      "Mean precision: 0.9365054624816832\n",
      "Mean recall: 0.9165032573814929\n"
     ]
    },
    {
     "data": {
      "image/png": "[encoded data removed]",
      "text/plain": [
       "<Figure size 432x288 with 2 Axes>"
      ]
     },
     "metadata": {
      "needs_background": "light"
     },
     "output_type": "display_data"
    },
    {
     "data": {
      "image/png": "[encoded data removed]",
      "text/plain": [
       "<Figure size 432x288 with 2 Axes>"
      ]
     },
     "metadata": {
      "needs_background": "light"
     },
     "output_type": "display_data"
    },
    {
     "data": {
      "image/png": "[encoded data removed]",
      "text/plain": [
       "<Figure size 432x288 with 2 Axes>"
      ]
     },
     "metadata": {
      "needs_background": "light"
     },
     "output_type": "display_data"
    },
    {
     "data": {
      "image/png": "[encoded data removed]",
      "text/plain": [
       "<Figure size 432x288 with 2 Axes>"
      ]
     },
     "metadata": {
      "needs_background": "light"
     },
     "output_type": "display_data"
    },
    {
     "data": {
      "image/png": "[encoded data removed]",
      "text/plain": [
       "<Figure size 432x288 with 2 Axes>"
      ]
     },
     "metadata": {
      "needs_background": "light"
     },
     "output_type": "display_data"
    }
   ],
   "source": [
    "bayes_grid = {\n",
    "    \"vectorizer__min_df\": [0.1, 0.01, 0.001],\n",
    "    \"vectorizer__max_df\": [0.5, 0.7,0.9],\n",
    "    \"vectorizer__use_idf\": [True, False],\n",
    "    \"bayes__alpha\": [0.01, 0.1, 0.5, 1, 10],\n",
    "    }\n",
    "pipeline = Pipeline([(\"vectorizer\", vectorizer), (\"bayes\", MultinomialNB())])\n",
    "clf = GridSearchCV(pipeline, bayes_grid, cv=inner_cv, n_jobs=-1, verbose=4)\n",
    "run = 1\n",
    "accuracies = np.zeros(outer_splits)\n",
    "f1s = np.zeros(outer_splits)\n",
    "aucs = np.zeros(outer_splits)\n",
    "precisions = np.zeros(outer_splits)\n",
    "recalls = np.zeros(outer_splits)\n",
    "for train_index, test_index in outer_cv.split(texts[\"text\"]):\n",
    "    print(f\"CV run {run}\")\n",
    "    print(\"Get data\")\n",
    "    X_train, X_test = texts[\"text\"][train_index], texts[\"text\"][test_index]\n",
    "    y_train, y_test = labels[train_index], labels[test_index]\n",
    "    print(\"Perform Randomized Grid Search\")\n",
    "    clf.fit(X_train, y_train)\n",
    "    print(\"Best model:\")\n",
    "    print(\"Accuracy: \" + str(clf.best_score_))\n",
    "    print(clf.best_params_)\n",
    "    predictions = clf.predict(X_test)\n",
    "    accuracy = accuracy_score(y_test, predictions)\n",
    "    f1 = f1_score(y_test, predictions, average=\"binary\")\n",
    "    auroc = roc_auc_score(y_test, predictions)\n",
    "    precision = precision_score(y_test, predictions)\n",
    "    recall = recall_score(y_test, predictions)\n",
    "    accuracies[run-1] = accuracy\n",
    "    f1s[run-1] = f1\n",
    "    aucs[run-1] = auroc\n",
    "    precisions[run-1] = precision\n",
    "    recalls[run-1] = recall\n",
    "    print(f\"Test Accuracy: {accuracy}\")\n",
    "    print(f\"Test F1: {f1}\")\n",
    "    print(f\"Test AUC: {auroc}\")\n",
    "    print(f\"Test precision: {precision}\")\n",
    "    print(f\"Test recall: {recall}\")\n",
    "    cm = confusion_matrix(y_test, predictions, labels = clf.best_estimator_.classes_)\n",
    "    print(cm)\n",
    "    disp = ConfusionMatrixDisplay(confusion_matrix=cm)\n",
    "    disp.plot()\n",
    "    plt.savefig(\"Confusion Matrix Run \" + str(run))\n",
    "    run += 1\n",
    "print(accuracies)\n",
    "print(f\"Mean accuracy: {accuracies.mean()}\")\n",
    "print(f\"Mean f1: {f1}\")\n",
    "print(f\"Mean AUC: {aucs.mean()}\")\n",
    "print(f\"Mean precision: {precisions.mean()}\")\n",
    "print(f\"Mean recall: {recalls.mean()}\")"
   ]
  },
  {
   "cell_type": "code",
   "execution_count": 7,
   "metadata": {},
   "outputs": [
    {
     "data": {
      "text/plain": [
       "Pipeline(steps=[('vectorizer', TfidfVectorizer()), ('svm', SVC())])"
      ]
     },
     "execution_count": 7,
     "metadata": {},
     "output_type": "execute_result"
    }
   ],
   "source": [
    "pipeline = Pipeline([(\"vectorizer\", vectorizer), (\"svm\", SVC(kernel=\"rbf\"))])\n",
    "pipeline.fit(X=texts[\"text\"], y=labels)"
   ]
  },
  {
   "cell_type": "code",
   "execution_count": 58,
   "metadata": {},
   "outputs": [
    {
     "name": "stdout",
     "output_type": "stream",
     "text": [
      "CV run 1\n",
      "IDF: True\n",
      "min df 0.001\n",
      "max_df 0.5\n",
      "C 1\n",
      "0.5244167269892533\n",
      "0.9264435659001058\n",
      "0.9388050559607996\n",
      "C 10\n",
      "0.9295060972214488\n",
      "0.9469346845592739\n",
      "0.9435380589119662\n",
      "C 100\n",
      "0.9468790021716131\n",
      "0.9477699203741856\n",
      "0.9435380589119662\n",
      "max_df 0.7\n",
      "C 1\n",
      "0.5243610446015925\n",
      "0.9264992482877665\n",
      "0.9398630213263545\n",
      "C 10\n",
      "0.9299515563227351\n",
      "0.9481596970878111\n",
      "0.9436494236872877\n",
      "C 100\n",
      "0.9482153794754719\n",
      "0.9482153794754719\n",
      "0.9436494236872877\n",
      "min df 0.01\n",
      "max_df 0.5\n",
      "C 1\n",
      "0.591681051283479\n",
      "0.9269447073890529\n",
      "0.9382482320841917\n",
      "C 10\n",
      "0.9293947324461272\n",
      "0.943315329361323\n",
      "0.9437051060749485\n",
      "C 100\n",
      "0.9418675872821427\n",
      "0.9418119048944819\n",
      "0.9437051060749485\n",
      "max_df 0.7\n",
      "C 1\n",
      "0.5878946489225458\n",
      "0.9273901664903391\n",
      "0.9385823264101565\n",
      "C 10\n",
      "0.9297845091597527\n",
      "0.9439835180132524\n",
      "0.9439278356255916\n",
      "C 100\n",
      "0.9431482821983407\n",
      "0.9431482821983407\n",
      "0.9439278356255916\n",
      "IDF: False\n",
      "min df 0.001\n",
      "max_df 0.5\n",
      "C 1\n"
     ]
    }
   ],
   "source": [
    "from sklearn.model_selection import train_test_split\n",
    "pipeline = Pipeline([(\"vectorizer\", vectorizer), (\"svm\", SVC(kernel=\"rbf\"))])\n",
    "run = 1\n",
    "accuracies = np.zeros(outer_splits)\n",
    "f1s = np.zeros(outer_splits)\n",
    "aucs = np.zeros(outer_splits)\n",
    "precisions = np.zeros(outer_splits)\n",
    "recalls = np.zeros(outer_splits)\n",
    "for train_index, test_index in outer_cv.split(texts):\n",
    "    print(f\"CV run {run}\")\n",
    "    train, test = texts.iloc[train_index], texts.iloc[test_index]\n",
    "    grid_train, grid_test = train_test_split(train, test_size=0.5, shuffle=True)\n",
    "    reduced_training = grid_train.iloc[0:2000]\n",
    "    best_idf = False\n",
    "    best_min_df = 0\n",
    "    best_max_df = 0\n",
    "    best_c = 0\n",
    "    best_gamma = 0\n",
    "    best_accuracy = 0\n",
    "    for idf in [True, False]:\n",
    "        print(f\"IDF: {idf}\")\n",
    "        for min_df in [0.001, 0.01]:\n",
    "            print(f\"min df {min_df}\")\n",
    "            for max_df in [0.5, 0.7]:\n",
    "                print(f\"max_df {max_df}\")\n",
    "                vectorizer = TfidfVectorizer(min_df=min_df, max_df=max_df, use_idf=idf)\n",
    "                grid_train_vectorized = vectorizer.fit_transform(reduced_training[\"text\"])\n",
    "                grid_test_vectorized = vectorizer.transform(grid_test[\"text\"])\n",
    "                for c in [1, 10, 100]:\n",
    "                    print(f\"C {c}\")\n",
    "                    for gamma in [.01, .1, 1]:\n",
    "                        print(f\"gamma {gamma}\")\n",
    "                        clf = SVC(C=c, gamma=gamma)\n",
    "                        clf.fit(grid_train_vectorized, reduced_training[\"label\"])\n",
    "                        predictions = clf.predict(grid_test_vectorized)\n",
    "                        accuracy = accuracy_score(grid_test[\"label\"], predictions)\n",
    "                        print(f\"Accuracy: {accuracy}\")\n",
    "                        if accuracy > best_accuracy:\n",
    "                            best_accuracy = accuracy\n",
    "                            best_idf = idf\n",
    "                            best_min_df = min_df\n",
    "                            best_max_df = max_df\n",
    "                            best_c = c\n",
    "                            best_gamma = gamma\n",
    "    # Refit the classifier\n",
    "    print(\"Perform Grid Search\")\n",
    "    vectorizer = TfidfVectorizer(min_df=best_min_df, max_df=best_max_df, use_idf=best_idf)\n",
    "    train_vectorized = vectorizer.fit_transform(train[\"text\"])\n",
    "    test_vectorized = vectorizer.transform(test[\"text\"])\n",
    "    print(f\"Best model: idf {best_idf}, min_df {best_min_df}, max_df {best_max_df}, c {best_c}, gamma {best_gamma}\")\n",
    "    clf = SVC(C=best_c, gamma=best_gamma)\n",
    "    clf.fit(train_vectorized, train[\"label\"])\n",
    "    predictions = clf.predict(test_vectorized)\n",
    "    accuracy = accuracy_score(test[\"label\"], predictions)\n",
    "    f1 = f1_score(test[\"label\"], predictions, average=\"binary\")\n",
    "    auroc = roc_auc_score(test[\"label\"], predictions)\n",
    "    precision = precision_score(test[\"label\"], predictions)\n",
    "    recall = recall_score(test[\"label\"], predictions)\n",
    "    accuracies[run-1] = accuracy\n",
    "    f1s[run-1] = f1\n",
    "    aucs[run-1] = auroc\n",
    "    precisions[run-1] = precision\n",
    "    recalls[run-1] = recall\n",
    "    print(f\"Test Accuracy: {accuracy}\")\n",
    "    print(f\"Test F1: {f1}\")\n",
    "    print(f\"Test AUC: {auroc}\")\n",
    "    print(f\"Test precision: {precision}\")\n",
    "    print(f\"Test recall: {recall}\")\n",
    "    cm = confusion_matrix(test[\"label\"], predictions, labels = clf.best_estimator_.classes_)\n",
    "    print(cm)\n",
    "    disp = ConfusionMatrixDisplay(confusion_matrix=cm)\n",
    "    disp.plot()\n",
    "    plt.savefig(\"Confusion Matrix Run \" + str(run))\n",
    "    run += 1\n",
    "print(accuracies)\n",
    "print(f\"Mean accuracy: {accuracies.mean()}\")\n",
    "print(f\"Mean f1: {f1}\")\n",
    "print(f\"Mean AUC: {aucs.mean()}\")\n",
    "print(f\"Mean precision: {precisions.mean()}\")\n",
    "print(f\"Mean recall: {recalls.mean()}\")"
   ]
  },
  {
   "cell_type": "markdown",
   "metadata": {},
   "source": [
    "#### BERT"
   ]
  },
  {
   "cell_type": "code",
   "execution_count": 66,
   "metadata": {},
   "outputs": [],
   "source": [
    "if method == \"BERT\":\n",
    "    tfhub_handle_encoder = \"https://tfhub.dev/tensorflow/bert_en_uncased_L-12_H-768_A-12/3\"\n",
    "    tfhub_handle_preprocess = \"https://tfhub.dev/tensorflow/bert_en_uncased_preprocess/3\"\n",
    "\n",
    "    print(f'BERT model selected           : {tfhub_handle_encoder}')\n",
    "    print(f'Preprocess model auto-selected: {tfhub_handle_preprocess}')\n",
    "\n",
    "    \n",
    "    bert_preprocess_model = hub.KerasLayer(tfhub_handle_preprocess)\n",
    "    #if \"OSError: SavedModel file does not exist\" occurs, navigate to the indicated folder and delete it\n",
    "    \n",
    "    text_test = texts\n",
    "    text_preprocessed = bert_preprocess_model(text_test)\n",
    "\n",
    "    #print(text_test)\n",
    "    print(f'Keys       : {list(text_preprocessed.keys())}')\n",
    "    print(f'Shape      : {text_preprocessed[\"input_word_ids\"].shape}')\n",
    "    print(f'Word Ids   : {text_preprocessed[\"input_word_ids\"]}')\n",
    "    print(f'Input Mask : {text_preprocessed[\"input_mask\"]}')\n",
    "    print(f'Type Ids   : {text_preprocessed[\"input_type_ids\"]}')"
   ]
  },
  {
   "cell_type": "markdown",
   "metadata": {},
   "source": [
    "#### DOC2Vec\n",
    "Converting the document into vectors"
   ]
  },
  {
   "cell_type": "code",
   "execution_count": 9,
   "metadata": {},
   "outputs": [],
   "source": [
    "class DocVecTransformer(TransformerMixin):\n",
    "    def __init__(self, dimension = 50):\n",
    "        print(f\"Doc2Vec Dimension {dimension}.\")\n",
    "        self.dimension = dimension\n",
    "\n",
    "    def fit(self, X, y=None):\n",
    "        return self\n",
    "\n",
    "    def transform(self, X, y=None):  \n",
    "        print(\"Started\")          \n",
    "        tagged_texts = []\n",
    "        for i, text in enumerate(X):\n",
    "                word_tokens = word_tokenize(text)\n",
    "                tagged_texts.append(TaggedDocument(word_tokens, [i]))\n",
    "        cores = multiprocessing.cpu_count()\n",
    "\n",
    "        model = Doc2Vec(dm=0, vector_size=self.dimension, negative=5, hs=0, min_count=2, sample = 0, workers=cores)\n",
    "        model.build_vocab([x for x in tqdm(tagged_texts)])\n",
    "        for epoch in range(epochs):\n",
    "            model.train(utils.shuffle([x for x in tqdm(tagged_texts)]), total_examples=len(tagged_texts), epochs=1)\n",
    "            model.alpha -= 0.002\n",
    "            model.min_alpha = model.alpha\n",
    "        vector_list = []\n",
    "        for i in range(len(X)):\n",
    "            vector_list.append(model.dv[i])\n",
    "        print(\"Doc2Vec finished\")\n",
    "        return scipy.sparse.csr_matrix(vector_list)"
   ]
  },
  {
   "cell_type": "code",
   "execution_count": 13,
   "metadata": {},
   "outputs": [],
   "source": [
    "import nltk\n",
    "def tokenize_text(text):\n",
    "    tokens = []\n",
    "    for sent in nltk.sent_tokenize(text):\n",
    "        for word in nltk.word_tokenize(sent):\n",
    "            if len(word) < 2:\n",
    "                continue\n",
    "            tokens.append(word.lower())\n",
    "    return tokens"
   ]
  },
  {
   "cell_type": "code",
   "execution_count": 29,
   "metadata": {},
   "outputs": [],
   "source": [
    "def vec_for_learning(model, tagged_docs):\n",
    "    sents = tagged_docs.values\n",
    "    targets, regressors = zip(*[(doc.tags[0], model.infer_vector(doc.words, epochs=20)) for doc in sents])\n",
    "    return targets, regressors"
   ]
  },
  {
   "cell_type": "code",
   "execution_count": 50,
   "metadata": {},
   "outputs": [
    {
     "name": "stdout",
     "output_type": "stream",
     "text": [
      "CV run 1\n",
      "Dimension: 50\n",
      "C: 0.001\n",
      "Model accuracy: 0.9741648106904232\n",
      "C: 0.015848931924611134\n",
      "Model accuracy: 0.9780623608017818\n",
      "C: 0.25118864315095796\n",
      "Model accuracy: 0.9778396436525613\n",
      "C: 3.981071705534969\n",
      "Model accuracy: 0.977728285077951\n",
      "C: 63.0957344480193\n",
      "Model accuracy: 0.977728285077951\n",
      "C: 1000.0\n",
      "Model accuracy: 0.977728285077951\n",
      "Dimension: 500\n",
      "C: 0.001\n",
      "Model accuracy: 0.9826280623608018\n",
      "C: 0.015848931924611134\n",
      "Model accuracy: 0.9870824053452116\n",
      "C: 0.25118864315095796\n",
      "Model accuracy: 0.9876391982182628\n",
      "C: 3.981071705534969\n",
      "Model accuracy: 0.9856347438752784\n",
      "C: 63.0957344480193\n",
      "Model accuracy: 0.9858574610244989\n",
      "C: 1000.0\n",
      "Model accuracy: 0.9859688195991091\n",
      "Dimension: 1000\n",
      "C: 0.001\n",
      "Model accuracy: 0.9835189309576837\n",
      "C: 0.015848931924611134\n",
      "Model accuracy: 0.9878619153674832\n",
      "C: 0.25118864315095796\n",
      "Model accuracy: 0.9881959910913141\n",
      "C: 3.981071705534969\n",
      "Model accuracy: 0.9880846325167038\n",
      "C: 63.0957344480193\n",
      "Model accuracy: 0.9853006681514477\n",
      "C: 1000.0\n",
      "Model accuracy: 0.9814031180400891\n"
     ]
    },
    {
     "name": "stderr",
     "output_type": "stream",
     "text": [
      "100%|██████████| 35918/35918 [00:00<00:00, 5130466.25it/s]\n",
      "100%|██████████| 35918/35918 [00:00<00:00, 5130291.54it/s]\n"
     ]
    },
    {
     "ename": "KeyboardInterrupt",
     "evalue": "",
     "output_type": "error",
     "traceback": [
      "\u001b[1;31m---------------------------------------------------------------------------\u001b[0m",
      "\u001b[1;31mKeyboardInterrupt\u001b[0m                         Traceback (most recent call last)",
      "\u001b[1;32mc:\\Users\\nicla\\Documents\\Data Mining Project\\data-mining-project\\transformation.ipynb Cell 23'\u001b[0m in \u001b[0;36m<cell line: 9>\u001b[1;34m()\u001b[0m\n\u001b[0;32m     <a href='vscode-notebook-cell:/c%3A/Users/nicla/Documents/Data%20Mining%20Project/data-mining-project/transformation.ipynb#ch0000021?line=43'>44</a>\u001b[0m model_dbow\u001b[39m.\u001b[39mbuild_vocab([x \u001b[39mfor\u001b[39;00m x \u001b[39min\u001b[39;00m tqdm(train_tagged\u001b[39m.\u001b[39mvalues)])\n\u001b[0;32m     <a href='vscode-notebook-cell:/c%3A/Users/nicla/Documents/Data%20Mining%20Project/data-mining-project/transformation.ipynb#ch0000021?line=44'>45</a>\u001b[0m model_dbow\u001b[39m.\u001b[39mtrain(utils\u001b[39m.\u001b[39mshuffle([x \u001b[39mfor\u001b[39;00m x \u001b[39min\u001b[39;00m tqdm(train_tagged\u001b[39m.\u001b[39mvalues)]), total_examples\u001b[39m=\u001b[39m\u001b[39mlen\u001b[39m(train_tagged\u001b[39m.\u001b[39mvalues), epochs\u001b[39m=\u001b[39m\u001b[39m30\u001b[39m)\n\u001b[1;32m---> <a href='vscode-notebook-cell:/c%3A/Users/nicla/Documents/Data%20Mining%20Project/data-mining-project/transformation.ipynb#ch0000021?line=45'>46</a>\u001b[0m outer_y_train, outer_X_train \u001b[39m=\u001b[39m vec_for_learning(model_dbow, train_tagged)\n\u001b[0;32m     <a href='vscode-notebook-cell:/c%3A/Users/nicla/Documents/Data%20Mining%20Project/data-mining-project/transformation.ipynb#ch0000021?line=46'>47</a>\u001b[0m outer_y_test, outer_X_test \u001b[39m=\u001b[39m vec_for_learning(model_dbow, test_tagged)\n\u001b[0;32m     <a href='vscode-notebook-cell:/c%3A/Users/nicla/Documents/Data%20Mining%20Project/data-mining-project/transformation.ipynb#ch0000021?line=47'>48</a>\u001b[0m clf \u001b[39m=\u001b[39m LogisticRegression(max_iter\u001b[39m=\u001b[39m\u001b[39m10000\u001b[39m, C\u001b[39m=\u001b[39mbest_c)\n",
      "\u001b[1;32mc:\\Users\\nicla\\Documents\\Data Mining Project\\data-mining-project\\transformation.ipynb Cell 22'\u001b[0m in \u001b[0;36mvec_for_learning\u001b[1;34m(model, tagged_docs)\u001b[0m\n\u001b[0;32m      <a href='vscode-notebook-cell:/c%3A/Users/nicla/Documents/Data%20Mining%20Project/data-mining-project/transformation.ipynb#ch0000020?line=0'>1</a>\u001b[0m \u001b[39mdef\u001b[39;00m \u001b[39mvec_for_learning\u001b[39m(model, tagged_docs):\n\u001b[0;32m      <a href='vscode-notebook-cell:/c%3A/Users/nicla/Documents/Data%20Mining%20Project/data-mining-project/transformation.ipynb#ch0000020?line=1'>2</a>\u001b[0m     sents \u001b[39m=\u001b[39m tagged_docs\u001b[39m.\u001b[39mvalues\n\u001b[1;32m----> <a href='vscode-notebook-cell:/c%3A/Users/nicla/Documents/Data%20Mining%20Project/data-mining-project/transformation.ipynb#ch0000020?line=2'>3</a>\u001b[0m     targets, regressors \u001b[39m=\u001b[39m \u001b[39mzip\u001b[39m(\u001b[39m*\u001b[39m[(doc\u001b[39m.\u001b[39mtags[\u001b[39m0\u001b[39m], model\u001b[39m.\u001b[39minfer_vector(doc\u001b[39m.\u001b[39mwords, epochs\u001b[39m=\u001b[39m\u001b[39m20\u001b[39m)) \u001b[39mfor\u001b[39;00m doc \u001b[39min\u001b[39;00m sents])\n\u001b[0;32m      <a href='vscode-notebook-cell:/c%3A/Users/nicla/Documents/Data%20Mining%20Project/data-mining-project/transformation.ipynb#ch0000020?line=3'>4</a>\u001b[0m     \u001b[39mreturn\u001b[39;00m targets, regressors\n",
      "\u001b[1;32mc:\\Users\\nicla\\Documents\\Data Mining Project\\data-mining-project\\transformation.ipynb Cell 22'\u001b[0m in \u001b[0;36m<listcomp>\u001b[1;34m(.0)\u001b[0m\n\u001b[0;32m      <a href='vscode-notebook-cell:/c%3A/Users/nicla/Documents/Data%20Mining%20Project/data-mining-project/transformation.ipynb#ch0000020?line=0'>1</a>\u001b[0m \u001b[39mdef\u001b[39;00m \u001b[39mvec_for_learning\u001b[39m(model, tagged_docs):\n\u001b[0;32m      <a href='vscode-notebook-cell:/c%3A/Users/nicla/Documents/Data%20Mining%20Project/data-mining-project/transformation.ipynb#ch0000020?line=1'>2</a>\u001b[0m     sents \u001b[39m=\u001b[39m tagged_docs\u001b[39m.\u001b[39mvalues\n\u001b[1;32m----> <a href='vscode-notebook-cell:/c%3A/Users/nicla/Documents/Data%20Mining%20Project/data-mining-project/transformation.ipynb#ch0000020?line=2'>3</a>\u001b[0m     targets, regressors \u001b[39m=\u001b[39m \u001b[39mzip\u001b[39m(\u001b[39m*\u001b[39m[(doc\u001b[39m.\u001b[39mtags[\u001b[39m0\u001b[39m], model\u001b[39m.\u001b[39;49minfer_vector(doc\u001b[39m.\u001b[39;49mwords, epochs\u001b[39m=\u001b[39;49m\u001b[39m20\u001b[39;49m)) \u001b[39mfor\u001b[39;00m doc \u001b[39min\u001b[39;00m sents])\n\u001b[0;32m      <a href='vscode-notebook-cell:/c%3A/Users/nicla/Documents/Data%20Mining%20Project/data-mining-project/transformation.ipynb#ch0000020?line=3'>4</a>\u001b[0m     \u001b[39mreturn\u001b[39;00m targets, regressors\n",
      "File \u001b[1;32mc:\\Users\\nicla\\anaconda3\\envs\\classification\\lib\\site-packages\\gensim\\models\\doc2vec.py:641\u001b[0m, in \u001b[0;36mDoc2Vec.infer_vector\u001b[1;34m(self, doc_words, alpha, min_alpha, epochs)\u001b[0m\n\u001b[0;32m    <a href='file:///c%3A/Users/nicla/anaconda3/envs/classification/lib/site-packages/gensim/models/doc2vec.py?line=638'>639</a>\u001b[0m \u001b[39mfor\u001b[39;00m i \u001b[39min\u001b[39;00m \u001b[39mrange\u001b[39m(epochs):\n\u001b[0;32m    <a href='file:///c%3A/Users/nicla/anaconda3/envs/classification/lib/site-packages/gensim/models/doc2vec.py?line=639'>640</a>\u001b[0m     \u001b[39mif\u001b[39;00m \u001b[39mself\u001b[39m\u001b[39m.\u001b[39msg:\n\u001b[1;32m--> <a href='file:///c%3A/Users/nicla/anaconda3/envs/classification/lib/site-packages/gensim/models/doc2vec.py?line=640'>641</a>\u001b[0m         train_document_dbow(\n\u001b[0;32m    <a href='file:///c%3A/Users/nicla/anaconda3/envs/classification/lib/site-packages/gensim/models/doc2vec.py?line=641'>642</a>\u001b[0m             \u001b[39mself\u001b[39;49m, doc_words, doctag_indexes, alpha, work,\n\u001b[0;32m    <a href='file:///c%3A/Users/nicla/anaconda3/envs/classification/lib/site-packages/gensim/models/doc2vec.py?line=642'>643</a>\u001b[0m             learn_words\u001b[39m=\u001b[39;49m\u001b[39mFalse\u001b[39;49;00m, learn_hidden\u001b[39m=\u001b[39;49m\u001b[39mFalse\u001b[39;49;00m, doctag_vectors\u001b[39m=\u001b[39;49mdoctag_vectors, doctags_lockf\u001b[39m=\u001b[39;49mdoctags_lockf\n\u001b[0;32m    <a href='file:///c%3A/Users/nicla/anaconda3/envs/classification/lib/site-packages/gensim/models/doc2vec.py?line=643'>644</a>\u001b[0m         )\n\u001b[0;32m    <a href='file:///c%3A/Users/nicla/anaconda3/envs/classification/lib/site-packages/gensim/models/doc2vec.py?line=644'>645</a>\u001b[0m     \u001b[39melif\u001b[39;00m \u001b[39mself\u001b[39m\u001b[39m.\u001b[39mdm_concat:\n\u001b[0;32m    <a href='file:///c%3A/Users/nicla/anaconda3/envs/classification/lib/site-packages/gensim/models/doc2vec.py?line=645'>646</a>\u001b[0m         train_document_dm_concat(\n\u001b[0;32m    <a href='file:///c%3A/Users/nicla/anaconda3/envs/classification/lib/site-packages/gensim/models/doc2vec.py?line=646'>647</a>\u001b[0m             \u001b[39mself\u001b[39m, doc_words, doctag_indexes, alpha, work, neu1,\n\u001b[0;32m    <a href='file:///c%3A/Users/nicla/anaconda3/envs/classification/lib/site-packages/gensim/models/doc2vec.py?line=647'>648</a>\u001b[0m             learn_words\u001b[39m=\u001b[39m\u001b[39mFalse\u001b[39;00m, learn_hidden\u001b[39m=\u001b[39m\u001b[39mFalse\u001b[39;00m, doctag_vectors\u001b[39m=\u001b[39mdoctag_vectors, doctags_lockf\u001b[39m=\u001b[39mdoctags_lockf\n\u001b[0;32m    <a href='file:///c%3A/Users/nicla/anaconda3/envs/classification/lib/site-packages/gensim/models/doc2vec.py?line=648'>649</a>\u001b[0m         )\n",
      "\u001b[1;31mKeyboardInterrupt\u001b[0m: "
     ]
    }
   ],
   "source": [
    "import multiprocessing\n",
    "cores = multiprocessing.cpu_count()\n",
    "run = 1\n",
    "accuracies = np.zeros(outer_splits)\n",
    "f1s = np.zeros(outer_splits)\n",
    "aucs = np.zeros(outer_splits)\n",
    "precisions = np.zeros(outer_splits)\n",
    "recalls = np.zeros(outer_splits)\n",
    "for train_index, test_index in outer_cv.split(texts):\n",
    "    print(f\"CV run {run}\")\n",
    "    outer_train = texts[[\"text\", \"label\"]].iloc[train_index]\n",
    "    outer_test = texts[[\"text\", \"label\"]].iloc[test_index]\n",
    "    best_accuracy = 0\n",
    "    best_c = 0\n",
    "    best_dimension = 0\n",
    "    inner_train, inner_test = train_test_split(outer_train)\n",
    "    for dimension in [50,500, 1000]:\n",
    "        print(f\"Dimension: {dimension}\")\n",
    "        model_dbow = Doc2Vec(dm=0, vector_size=dimension, negative=5, hs=0, min_count=2, sample = 0, workers=cores)\n",
    "        train_tagged = inner_train.apply(\n",
    "            lambda r: TaggedDocument(words=tokenize_text(r['text']), tags=[r.label]), axis=1)\n",
    "        test_tagged = inner_test.apply(\n",
    "            lambda r: TaggedDocument(words=tokenize_text(r['text']), tags=[r.label]), axis=1)\n",
    "        model_dbow.build_vocab([x for x in train_tagged.values])\n",
    "        model_dbow.train(utils.shuffle([x for x in train_tagged.values]), total_examples=len(train_tagged.values), epochs=30)\n",
    "        inner_y_train, inner_X_train = vec_for_learning(model_dbow, train_tagged)\n",
    "        inner_y_test, inner_X_test = vec_for_learning(model_dbow, test_tagged)\n",
    "        for c in np.logspace(-3, 3, 6):\n",
    "            print(f\"C: {c}\")\n",
    "            clf = LogisticRegression(max_iter=10000, C=c)\n",
    "            clf.fit(inner_X_train, inner_y_train)\n",
    "            predictions = clf.predict(inner_X_test)\n",
    "            accuracy = accuracy_score(inner_y_test, predictions)\n",
    "            print(f\"Model accuracy: {accuracy}\")\n",
    "            if accuracy > best_accuracy:\n",
    "                best_accuracy = accuracy\n",
    "                best_c = c\n",
    "                best_dimension = dimension\n",
    "    model_dbow = Doc2Vec(dm=0, vector_size=best_dimension, negative=5, hs=0, min_count=2, sample = 0, workers=cores)\n",
    "    train_tagged = outer_train.apply(\n",
    "        lambda r: TaggedDocument(words=tokenize_text(r['text']), tags=[r.label]), axis=1)\n",
    "    test_tagged = outer_test.apply(\n",
    "        lambda r: TaggedDocument(words=tokenize_text(r['text']), tags=[r.label]), axis=1)\n",
    "    model_dbow.build_vocab([x for x in tqdm(train_tagged.values)])\n",
    "    model_dbow.train(utils.shuffle([x for x in tqdm(train_tagged.values)]), total_examples=len(train_tagged.values), epochs=30)\n",
    "    outer_y_train, outer_X_train = vec_for_learning(model_dbow, train_tagged)\n",
    "    outer_y_test, outer_X_test = vec_for_learning(model_dbow, test_tagged)\n",
    "    clf = LogisticRegression(max_iter=10000, C=best_c)\n",
    "    clf.fit(outer_X_train, outer_y_train)\n",
    "    predictions = clf.predict(outer_X_test)\n",
    "    print(f\"Best model: dimension {best_dimension}, c {best_c}\")\n",
    "    accuracy = accuracy_score(y_test, predictions)\n",
    "    f1 = f1_score(y_test, predictions, average=\"binary\")\n",
    "    auroc = roc_auc_score(y_test, predictions)\n",
    "    precision = precision_score(y_test, predictions)\n",
    "    recall = recall_score(y_test, predictions)\n",
    "    accuracies[run-1] = accuracy\n",
    "    f1s[run-1] = f1\n",
    "    aucs[run-1] = auroc\n",
    "    precisions[run-1] = precision\n",
    "    recalls[run-1] = recall\n",
    "    print(f\"Test Accuracy: {accuracy}\")\n",
    "    print(f\"Test F1: {f1}\")\n",
    "    print(f\"Test AUC: {auroc}\")\n",
    "    print(f\"Test precision: {precision}\")\n",
    "    print(f\"Test recall: {recall}\")\n",
    "    cm = confusion_matrix(y_test, predictions, labels = clf.best_estimator_.classes_)\n",
    "    print(cm)\n",
    "    disp = ConfusionMatrixDisplay(confusion_matrix=cm)\n",
    "    disp.plot()\n",
    "    plt.savefig(\"Confusion Matrix Run \" + str(run))\n",
    "    run += 1\n",
    "print(accuracies)\n",
    "print(f\"Mean accuracy: {accuracies.mean()}\")\n",
    "print(f\"Mean f1: {f1}\")\n",
    "print(f\"Mean AUC: {aucs.mean()}\")\n",
    "print(f\"Mean precision: {precisions.mean()}\")\n",
    "print(f\"Mean recall: {recalls.mean()}\")"
   ]
  },
  {
   "cell_type": "code",
   "execution_count": null,
   "metadata": {},
   "outputs": [
    {
     "name": "stdout",
     "output_type": "stream",
     "text": [
      "Doc2Vec Dimension 50.\n",
      "CV run 1\n",
      "Get data\n",
      "Perform Grid Search\n",
      "Fitting 5 folds for each of 11520 candidates, totalling 57600 fits\n"
     ]
    }
   ],
   "source": [
    "bayes_grid = {\n",
    "    \"doc2vec__doc_vec_transformer__kw_args\": [{\"dimension\": 50}, {\"dimension\": 200}],\n",
    "    \"bayes__alpha\": [0.01, 0.1, 0.5, 1, 10],\n",
    "    }\n",
    "pipeline = Pipeline([(\"doc2vec\", DocVecTransformer()), (\"bayes\", MultinomialNB())])\n",
    "clf = GridSearchCV(pipeline, logistic_grid, cv=inner_cv, n_jobs=-1, verbose=4)\n",
    "run = 1\n",
    "accuracies = np.zeros(outer_splits)\n",
    "f1s = np.zeros(outer_splits)\n",
    "aucs = np.zeros(outer_splits)\n",
    "precisions = np.zeros(outer_splits)\n",
    "recalls = np.zeros(outer_splits)\n",
    "for train_index, test_index in outer_cv.split(texts[\"text\"]):\n",
    "    print(f\"CV run {run}\")\n",
    "    print(\"Get data\")\n",
    "    X_train, X_test = texts[\"text\"][train_index], texts[\"text\"][test_index]\n",
    "    y_train, y_test = labels[train_index], labels[test_index]\n",
    "    print(\"Perform Randomized Grid Search\")\n",
    "    clf.fit(X_train, y_train)\n",
    "    print(\"Best model:\")\n",
    "    print(\"Accuracy: \" + str(clf.best_score_))\n",
    "    print(clf.best_params_)\n",
    "    predictions = clf.predict(X_test)\n",
    "    accuracy = accuracy_score(y_test, predictions)\n",
    "    f1 = f1_score(y_test, predictions, average=\"binary\")\n",
    "    auroc = roc_auc_score(y_test, predictions)\n",
    "    precision = precision_score(y_test, predictions)\n",
    "    recall = recall_score(y_test, predictions)\n",
    "    accuracies[run-1] = accuracy\n",
    "    f1s[run-1] = f1\n",
    "    aucs[run-1] = auroc\n",
    "    precisions[run-1] = precision\n",
    "    recalls[run-1] = recall\n",
    "    print(f\"Test Accuracy: {accuracy}\")\n",
    "    print(f\"Test F1: {f1}\")\n",
    "    print(f\"Test AUC: {auroc}\")\n",
    "    print(f\"Test precision: {precision}\")\n",
    "    print(f\"Test recall: {recall}\")\n",
    "    cm = confusion_matrix(y_test, predictions, labels = clf.best_estimator_.classes_)\n",
    "    print(cm)\n",
    "    disp = ConfusionMatrixDisplay(confusion_matrix=cm)\n",
    "    disp.plot()\n",
    "    plt.savefig(\"Confusion Matrix Run \" + str(run))\n",
    "    run += 1\n",
    "print(accuracies)\n",
    "print(f\"Mean accuracy: {accuracies.mean()}\")\n",
    "print(f\"Mean f1: {f1}\")\n",
    "print(f\"Mean AUC: {aucs.mean()}\")\n",
    "print(f\"Mean precision: {precisions.mean()}\")\n",
    "print(f\"Mean recall: {recalls.mean()}\")"
   ]
  },
  {
   "cell_type": "markdown",
   "metadata": {},
   "source": [
    "# Store Results"
   ]
  },
  {
   "cell_type": "code",
   "execution_count": 11,
   "metadata": {},
   "outputs": [],
   "source": [
    "if method == \"BERT\":\n",
    "    a_file = open(\"bert_preprocessed.pkl\", \"wb\")\n",
    "    pickle.dump(text_preprocessed, a_file)\n",
    "    a_file.close()\n",
    "    np.save(\"training_labels\", labels)"
   ]
  }
 ],
 "metadata": {
  "interpreter": {
   "hash": "3482ef3323ad09bbcf0e8d550b08b88f7234f6ea94425e7e69b98a6bf876e57c"
  },
  "kernelspec": {
   "display_name": "Python 3.9.7 ('classification')",
   "language": "python",
   "name": "python3"
  },
  "language_info": {
   "codemirror_mode": {
    "name": "ipython",
    "version": 3
   },
   "file_extension": ".py",
   "mimetype": "text/x-python",
   "name": "python",
   "nbconvert_exporter": "python",
   "pygments_lexer": "ipython3",
   "version": "3.9.7"
  }
 },
 "nbformat": 4,
 "nbformat_minor": 2
}
