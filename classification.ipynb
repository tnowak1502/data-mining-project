{
 "cells": [
  {
   "cell_type": "code",
   "execution_count": 1,
   "metadata": {},
   "outputs": [],
   "source": [
    "import numpy as np\n",
    "import scipy.sparse\n",
    "from sklearn.model_selection import train_test_split\n",
    "from sklearn.svm import SVC\n",
    "from sklearn.model_selection import GridSearchCV, cross_val_score"
   ]
  },
  {
   "cell_type": "markdown",
   "metadata": {},
   "source": [
    "## Load Traning Input"
   ]
  },
  {
   "cell_type": "code",
   "execution_count": 2,
   "metadata": {},
   "outputs": [
    {
     "ename": "FileNotFoundError",
     "evalue": "[Errno 2] No such file or directory: 'training_input.npz'",
     "output_type": "error",
     "traceback": [
      "\u001b[1;31m---------------------------------------------------------------------------\u001b[0m",
      "\u001b[1;31mFileNotFoundError\u001b[0m                         Traceback (most recent call last)",
      "\u001b[1;32mc:\\Users\\nicla\\Documents\\Data Mining Project\\data-mining-project\\classification.ipynb Cell 3'\u001b[0m in \u001b[0;36m<cell line: 1>\u001b[1;34m()\u001b[0m\n\u001b[1;32m----> <a href='vscode-notebook-cell:/c%3A/Users/nicla/Documents/Data%20Mining%20Project/data-mining-project/classification.ipynb#ch0000011?line=0'>1</a>\u001b[0m X \u001b[39m=\u001b[39m scipy\u001b[39m.\u001b[39;49msparse\u001b[39m.\u001b[39;49mload_npz(\u001b[39m\"\u001b[39;49m\u001b[39mtraining_input.npz\u001b[39;49m\u001b[39m\"\u001b[39;49m)\n\u001b[0;32m      <a href='vscode-notebook-cell:/c%3A/Users/nicla/Documents/Data%20Mining%20Project/data-mining-project/classification.ipynb#ch0000011?line=1'>2</a>\u001b[0m y \u001b[39m=\u001b[39m np\u001b[39m.\u001b[39mload(\u001b[39m\"\u001b[39m\u001b[39mtraining_labels.npy\u001b[39m\u001b[39m\"\u001b[39m, allow_pickle \u001b[39m=\u001b[39m \u001b[39mTrue\u001b[39;00m)\n",
      "File \u001b[1;32m~\\anaconda3\\envs\\classification\\lib\\site-packages\\scipy\\sparse\\_matrix_io.py:123\u001b[0m, in \u001b[0;36mload_npz\u001b[1;34m(file)\u001b[0m\n\u001b[0;32m     <a href='file:///c%3A/Users/nicla/anaconda3/envs/classification/lib/site-packages/scipy/sparse/_matrix_io.py?line=74'>75</a>\u001b[0m \u001b[39mdef\u001b[39;00m \u001b[39mload_npz\u001b[39m(file):\n\u001b[0;32m     <a href='file:///c%3A/Users/nicla/anaconda3/envs/classification/lib/site-packages/scipy/sparse/_matrix_io.py?line=75'>76</a>\u001b[0m     \u001b[39m\"\"\" Load a sparse matrix from a file using ``.npz`` format.\u001b[39;00m\n\u001b[0;32m     <a href='file:///c%3A/Users/nicla/anaconda3/envs/classification/lib/site-packages/scipy/sparse/_matrix_io.py?line=76'>77</a>\u001b[0m \n\u001b[0;32m     <a href='file:///c%3A/Users/nicla/anaconda3/envs/classification/lib/site-packages/scipy/sparse/_matrix_io.py?line=77'>78</a>\u001b[0m \u001b[39m    Parameters\u001b[39;00m\n\u001b[1;32m   (...)\u001b[0m\n\u001b[0;32m    <a href='file:///c%3A/Users/nicla/anaconda3/envs/classification/lib/site-packages/scipy/sparse/_matrix_io.py?line=119'>120</a>\u001b[0m \u001b[39m            [4, 0, 0]], dtype=int64)\u001b[39;00m\n\u001b[0;32m    <a href='file:///c%3A/Users/nicla/anaconda3/envs/classification/lib/site-packages/scipy/sparse/_matrix_io.py?line=120'>121</a>\u001b[0m \u001b[39m    \"\"\"\u001b[39;00m\n\u001b[1;32m--> <a href='file:///c%3A/Users/nicla/anaconda3/envs/classification/lib/site-packages/scipy/sparse/_matrix_io.py?line=122'>123</a>\u001b[0m     \u001b[39mwith\u001b[39;00m np\u001b[39m.\u001b[39mload(file, \u001b[39m*\u001b[39m\u001b[39m*\u001b[39mPICKLE_KWARGS) \u001b[39mas\u001b[39;00m loaded:\n\u001b[0;32m    <a href='file:///c%3A/Users/nicla/anaconda3/envs/classification/lib/site-packages/scipy/sparse/_matrix_io.py?line=123'>124</a>\u001b[0m         \u001b[39mtry\u001b[39;00m:\n\u001b[0;32m    <a href='file:///c%3A/Users/nicla/anaconda3/envs/classification/lib/site-packages/scipy/sparse/_matrix_io.py?line=124'>125</a>\u001b[0m             matrix_format \u001b[39m=\u001b[39m loaded[\u001b[39m'\u001b[39m\u001b[39mformat\u001b[39m\u001b[39m'\u001b[39m]\n",
      "File \u001b[1;32m~\\anaconda3\\envs\\classification\\lib\\site-packages\\numpy\\lib\\npyio.py:417\u001b[0m, in \u001b[0;36mload\u001b[1;34m(file, mmap_mode, allow_pickle, fix_imports, encoding)\u001b[0m\n\u001b[0;32m    <a href='file:///c%3A/Users/nicla/anaconda3/envs/classification/lib/site-packages/numpy/lib/npyio.py?line=414'>415</a>\u001b[0m     own_fid \u001b[39m=\u001b[39m \u001b[39mFalse\u001b[39;00m\n\u001b[0;32m    <a href='file:///c%3A/Users/nicla/anaconda3/envs/classification/lib/site-packages/numpy/lib/npyio.py?line=415'>416</a>\u001b[0m \u001b[39melse\u001b[39;00m:\n\u001b[1;32m--> <a href='file:///c%3A/Users/nicla/anaconda3/envs/classification/lib/site-packages/numpy/lib/npyio.py?line=416'>417</a>\u001b[0m     fid \u001b[39m=\u001b[39m stack\u001b[39m.\u001b[39menter_context(\u001b[39mopen\u001b[39;49m(os_fspath(file), \u001b[39m\"\u001b[39;49m\u001b[39mrb\u001b[39;49m\u001b[39m\"\u001b[39;49m))\n\u001b[0;32m    <a href='file:///c%3A/Users/nicla/anaconda3/envs/classification/lib/site-packages/numpy/lib/npyio.py?line=417'>418</a>\u001b[0m     own_fid \u001b[39m=\u001b[39m \u001b[39mTrue\u001b[39;00m\n\u001b[0;32m    <a href='file:///c%3A/Users/nicla/anaconda3/envs/classification/lib/site-packages/numpy/lib/npyio.py?line=419'>420</a>\u001b[0m \u001b[39m# Code to distinguish from NumPy binary files and pickles.\u001b[39;00m\n",
      "\u001b[1;31mFileNotFoundError\u001b[0m: [Errno 2] No such file or directory: 'training_input.npz'"
     ]
    }
   ],
   "source": [
    "X = scipy.sparse.load_npz(\"training_input.npz\")\n",
    "y = np.load(\"training_labels.npy\", allow_pickle = True)"
   ]
  },
  {
   "cell_type": "markdown",
   "metadata": {},
   "source": [
    "## Setup of Training"
   ]
  },
  {
   "cell_type": "code",
   "execution_count": null,
   "metadata": {},
   "outputs": [],
   "source": [
    "from matplotlib import pyplot as plt\n",
    "from sklearn.svm import SVC\n",
    "from sklearn.model_selection import GridSearchCV, cross_val_score, KFold\n",
    "import numpy as np"
   ]
  },
  {
   "cell_type": "code",
   "execution_count": null,
   "metadata": {},
   "outputs": [],
   "source": [
    "folds = 2"
   ]
  },
  {
   "cell_type": "code",
   "execution_count": null,
   "metadata": {},
   "outputs": [],
   "source": [
    "X_train, X_test, y_train, y_test = train_test_split(X, y, test_size=0.25, random_state=42)"
   ]
  },
  {
   "cell_type": "markdown",
   "metadata": {},
   "source": [
    "## Naive Bayes"
   ]
  },
  {
   "cell_type": "code",
   "execution_count": null,
   "metadata": {},
   "outputs": [],
   "source": [
    "p_grid = {}"
   ]
  },
  {
   "cell_type": "code",
   "execution_count": null,
   "metadata": {},
   "outputs": [
    {
     "name": "stdout",
     "output_type": "stream",
     "text": [
      "[[5606  289]\n",
      " [ 414 4916]]\n"
     ]
    },
    {
     "data": {
      "text/plain": [
       "0.9373719376391982"
      ]
     },
     "execution_count": 17,
     "metadata": {},
     "output_type": "execute_result"
    }
   ],
   "source": [
    "from sklearn.naive_bayes import MultinomialNB\n",
    "nb = MultinomialNB()\n",
    "nb.fit(X_train, y_train)\n",
    "y_pred = nb.predict(X_test)\n",
    "from sklearn.metrics import confusion_matrix\n",
    "print(confusion_matrix(y_test, y_pred))\n",
    "from sklearn.metrics import accuracy_score\n",
    "accuracy_score(y_test, y_pred, normalize=True)"
   ]
  },
  {
   "cell_type": "markdown",
   "metadata": {},
   "source": [
    "## Logistic Regression"
   ]
  },
  {
   "cell_type": "code",
   "execution_count": null,
   "metadata": {},
   "outputs": [],
   "source": [
    "p_grid = {}"
   ]
  },
  {
   "cell_type": "code",
   "execution_count": null,
   "metadata": {},
   "outputs": [
    {
     "name": "stdout",
     "output_type": "stream",
     "text": [
      "[[5808   87]\n",
      " [  68 5262]]\n"
     ]
    },
    {
     "data": {
      "text/plain": [
       "0.9861915367483296"
      ]
     },
     "execution_count": 19,
     "metadata": {},
     "output_type": "execute_result"
    }
   ],
   "source": [
    "from sklearn.linear_model import LogisticRegression\n",
    "clf = LogisticRegression().fit(X_train, y_train)\n",
    "y_pred = clf.predict(X_test)\n",
    "print(confusion_matrix(y_test, y_pred))\n",
    "accuracy_score(y_test, y_pred, normalize=True)"
   ]
  },
  {
   "cell_type": "markdown",
   "metadata": {},
   "source": [
    "## Support Vector Machines"
   ]
  },
  {
   "cell_type": "markdown",
   "metadata": {},
   "source": [
    "Normalize inputs"
   ]
  },
  {
   "cell_type": "code",
   "execution_count": null,
   "metadata": {},
   "outputs": [],
   "source": [
    "estimator = SVC(C=1.0, kernel=\"rbf\")\n",
    "p_grid = {\"C\": [1, 10, 100, 100], \"gamma\": [.001, .01, .1, 1]}\n",
    "\n",
    "estimator_gs = GridSearchCV(estimator, p_grid, scoring=\"accuracy\", cv=folds, n_jobs=-1)\n",
    "\n",
    "accuracy_cv = cross_val_score(estimator_gs, X, y, cv=folds, scoring=\"accuracy\")"
   ]
  }
 ],
 "metadata": {
  "interpreter": {
   "hash": "f51407d5e6c0c235947a8c224cba5ff40522160ec4fcd13db58d05d1d9585e54"
  },
  "kernelspec": {
   "display_name": "Python 3",
   "language": "python",
   "name": "python3"
  },
  "language_info": {
   "codemirror_mode": {
    "name": "ipython",
    "version": 3
   },
   "file_extension": ".py",
   "mimetype": "text/x-python",
   "name": "python",
   "nbconvert_exporter": "python",
   "pygments_lexer": "ipython3",
   "version": "3.9.7"
  }
 },
 "nbformat": 4,
 "nbformat_minor": 2
}
