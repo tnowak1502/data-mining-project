{
 "cells": [
  {
   "cell_type": "code",
   "execution_count": 11,
   "metadata": {},
   "outputs": [],
   "source": [
    "import numpy as np\n",
    "import pandas as pd\n",
    "from sklearn.feature_extraction.text import CountVectorizer\n",
    "from sklearn.feature_extraction.text import TfidfVectorizer\n",
    "from gensim.models import Doc2Vec\n",
    "from gensim.models.doc2vec import TaggedDocument\n",
    "import scipy.sparse\n",
    "import tensorflow as tf\n",
    "import tensorflow_hub as hub\n",
    "import tensorflow_text as text\n",
    "import pickle\n",
    "from tqdm import tqdm\n",
    "from sklearn import utils\n",
    "import multiprocessing\n",
    "from nltk.tokenize import word_tokenize\n",
    "import json\n",
    "import numpy as np\n",
    "import scipy.sparse\n",
    "from sklearn.model_selection import train_test_split, KFold, GridSearchCV, RandomizedSearchCV\n",
    "from sklearn.svm import SVC\n",
    "from sklearn.model_selection import GridSearchCV\n",
    "from sklearn.linear_model import LogisticRegression\n",
    "from sklearn.naive_bayes import MultinomialNB\n",
    "from sklearn.metrics import confusion_matrix, accuracy_score, roc_auc_score, f1_score, ConfusionMatrixDisplay\n",
    "import pickle\n",
    "import tensorflow as tf\n",
    "import tensorflow_hub as hub\n",
    "import tensorflow_text as text\n",
    "import tensorflow_addons as tfa\n",
    "import pickle\n",
    "import matplotlib.pyplot as plt\n",
    "import json\n",
    "from sklearn.pipeline import Pipeline"
   ]
  },
  {
   "cell_type": "markdown",
   "metadata": {},
   "source": [
    "## Read Inputs"
   ]
  },
  {
   "cell_type": "code",
   "execution_count": 3,
   "metadata": {},
   "outputs": [],
   "source": [
    "texts = np.load(\"preprocessed_texts.npy\", allow_pickle = True)\n",
    "labels = np.load(\"preprocessed_labels.npy\", allow_pickle = True)"
   ]
  },
  {
   "cell_type": "markdown",
   "metadata": {},
   "source": [
    "## Transformation"
   ]
  },
  {
   "cell_type": "markdown",
   "metadata": {},
   "source": [
    "Configuration for Transformation"
   ]
  },
  {
   "cell_type": "code",
   "execution_count": null,
   "metadata": {},
   "outputs": [],
   "source": [
    "# TF-IDF | CountVectorization | BERT | DOC2VEC\n",
    "method = \"TF-IDF\"\n",
    "dimension = 200 # Doc2Vec vector dimension\n",
    "epochs = 10 # Doc2Vec training epochs\n",
    "min_df = 0.001 # TF-IDF min df\n",
    "max_df = 0.9 # TF-IDF max df\n",
    "use_idf = False\n",
    "outer_splits = 3\n",
    "inner_splits = 3\n",
    "random_iterations = 1\n",
    "param_grid = {\n",
    "    \"logistic__C\": list(np.logspace(-3,3,7)), \n",
    "    \"logistic__penalty\": [\"none\", \"l2\"],\n",
    "    \"vectorizer__min_df\": [0.1, 0.01, 0.001, 0.001],\n",
    "    \"vectorizer__max_df\": [0.5, 0.6, 0.7, 0.8, 0.9],\n",
    "    \"vectorizer__use_idf\": [True, False],\n",
    "    \"bayes__alpha\": [0.01, 0.1, 0.5, 1, 10],\n",
    "    \"svm__C\": [1, 10, 100, 100], \n",
    "    \"svm__gamma\": [.001, .01, .1, 1]\n",
    "    }\n",
    "\n",
    "with open('config.json', 'r') as openfile:\n",
    "    json_object = json.load(openfile)\n",
    "    json_object[\"transformation_method\"] = method\n",
    "    json_object[\"doc2vec_dimension\"] = dimension\n",
    "    json_object[\"doc2vec_epochs\"] = epochs\n",
    "    json_object[\"min_df\"] = min_df\n",
    "    json_object[\"max_df\"] = max_df\n",
    "    json_object[\"use_idf\"] = use_idf\n",
    "    json_object[\"outer_splits\"] = outer_splits\n",
    "    json_object[\"innter_splits\"] = inner_splits\n",
    "    json_object[\"param_grid\"] = param_grid\n",
    "with open(\"config.json\", \"w\") as outfile:\n",
    "    outfile.write(json.dumps(json_object))"
   ]
  },
  {
   "cell_type": "markdown",
   "metadata": {},
   "source": [
    "#### Count Vectorization\n",
    "We cannot use this vectorization methods because the fake news differ in the length of texts from the true news"
   ]
  },
  {
   "cell_type": "code",
   "execution_count": 5,
   "metadata": {},
   "outputs": [],
   "source": [
    "if method == \"CountVectorization\":\n",
    "    vectorizer = CountVectorizer(analyzer=\"word\")\n",
    "    all_tokens = vectorizer.fit_transform(texts)"
   ]
  },
  {
   "cell_type": "markdown",
   "metadata": {},
   "source": [
    "#### TF-IDF Vectorization"
   ]
  },
  {
   "cell_type": "code",
   "execution_count": 4,
   "metadata": {},
   "outputs": [
    {
     "name": "stdout",
     "output_type": "stream",
     "text": [
      "13691 features after using vectorizer.\n"
     ]
    }
   ],
   "source": [
    "if method == \"TF-IDF\":\n",
    "    vectorizer = TfidfVectorizer(min_df=min_df, max_df=max_df, use_idf=use_idf) #critical values selected from research papers \n",
    "    all_tokens = vectorizer.fit_transform(texts)\n",
    "    feature_names = vectorizer.get_feature_names_out()\n",
    "    print(f\"{len(feature_names)} features after using vectorizer.\")"
   ]
  },
  {
   "cell_type": "code",
   "execution_count": 6,
   "metadata": {},
   "outputs": [],
   "source": [
    "inner_cv = KFold(n_splits=inner_splits, shuffle=True, random_state=42)\n",
    "outer_cv = KFold(n_splits=outer_splits, shuffle=True, random_state=42)\n",
    "vectorizer = TfidfVectorizer()"
   ]
  },
  {
   "cell_type": "code",
   "execution_count": 15,
   "metadata": {},
   "outputs": [
    {
     "name": "stdout",
     "output_type": "stream",
     "text": [
      "CV run 1\n",
      "Get data\n",
      "Perform Randomized Grid Search\n",
      "Fitting 3 folds for each of 1 candidates, totalling 3 fits\n",
      "Best model:\n",
      "Accuracy: 0.926834123776327\n",
      "{'vectorizer__use_idf': False, 'vectorizer__min_df': 0.01, 'vectorizer__max_df': 0.9, 'logistic__penalty': 'l2', 'logistic__C': 0.01}\n",
      "Test Accuracy: 0.9343846051049044\n",
      "Test F1: 0.9307572979833592\n",
      "Test AUC: 0.9340888472069836\n",
      "[[7384  471]\n",
      " [ 511 6600]]\n",
      "CV run 2\n",
      "Get data\n",
      "Perform Randomized Grid Search\n",
      "Fitting 3 folds for each of 1 candidates, totalling 3 fits\n",
      "Best model:\n",
      "Accuracy: 0.9619136742509374\n",
      "{'vectorizer__use_idf': False, 'vectorizer__min_df': 0.1, 'vectorizer__max_df': 0.5, 'logistic__penalty': 'none', 'logistic__C': 1.0}\n",
      "Test Accuracy: 0.9635841240144327\n",
      "Test F1: 0.9624422851629798\n",
      "Test AUC: 0.9637471029212054\n",
      "[[7438  316]\n",
      " [ 229 6983]]\n",
      "CV run 3\n",
      "Get data\n",
      "Perform Randomized Grid Search\n",
      "Fitting 3 folds for each of 1 candidates, totalling 3 fits\n"
     ]
    },
    {
     "name": "stderr",
     "output_type": "stream",
     "text": [
      "c:\\Users\\nicla\\anaconda3\\envs\\classification\\lib\\site-packages\\sklearn\\linear_model\\_logistic.py:1483: UserWarning: Setting penalty='none' will ignore the C and l1_ratio parameters\n",
      "  warnings.warn(\n"
     ]
    },
    {
     "name": "stdout",
     "output_type": "stream",
     "text": [
      "Best model:\n",
      "Accuracy: 0.9890084904909139\n",
      "{'vectorizer__use_idf': True, 'vectorizer__min_df': 0.001, 'vectorizer__max_df': 0.7, 'logistic__penalty': 'none', 'logistic__C': 10.0}\n",
      "Test Accuracy: 0.9920486435921422\n",
      "Test F1: 0.9916262050524243\n",
      "Test AUC: 0.9921072048461886\n",
      "[[7801   71]\n",
      " [  48 7046]]\n",
      "[0.93438461 0.96358412 0.99204864]\n",
      "Mean accuracy: 0.9633391242371597\n"
     ]
    },
    {
     "data": {
      "image/png": "[encoded data removed]",
      "text/plain": [
       "<Figure size 432x288 with 2 Axes>"
      ]
     },
     "metadata": {
      "needs_background": "light"
     },
     "output_type": "display_data"
    },
    {
     "data": {
      "image/png": "[encoded data removed]",
      "text/plain": [
       "<Figure size 432x288 with 2 Axes>"
      ]
     },
     "metadata": {
      "needs_background": "light"
     },
     "output_type": "display_data"
    },
    {
     "data": {
      "image/png": "[encoded data removed]",
      "text/plain": [
       "<Figure size 432x288 with 2 Axes>"
      ]
     },
     "metadata": {
      "needs_background": "light"
     },
     "output_type": "display_data"
    }
   ],
   "source": [
    "pipeline = Pipeline([(\"vectorizer\", vectorizer), (\"logistic\", LogisticRegression(max_iter=10000))])\n",
    "clf = RandomizedSearchCV(pipeline, param_grid, n_iter=random_iterations, cv=inner_cv, n_jobs=-1, verbose=3)\n",
    "#predictions = cross_val_score(clf, X=texts, y=labels, cv=outer_cv, verbose=3, pre_dispatch=2, n_jobs=-1) # set pre_dispatch lower for less memory consumption\n",
    "run = 1\n",
    "accuracies = np.zeros(outer_splits)\n",
    "for train_index, test_index in outer_cv.split(texts):\n",
    "    print(f\"CV run {run}\")\n",
    "    print(\"Get data\")\n",
    "    X_train, X_test = texts[train_index], texts[test_index]\n",
    "    y_train, y_test = labels[train_index], labels[test_index]\n",
    "    print(\"Perform Randomized Grid Search\")\n",
    "    clf.fit(X_train, y_train)\n",
    "    print(\"Best model:\")\n",
    "    print(\"Accuracy: \" + str(clf.best_score_))\n",
    "    print(clf.best_params_)\n",
    "    predictions = clf.predict(X_test)\n",
    "    accuracy = accuracy_score(y_test, predictions)\n",
    "    f1 = f1_score(y_test, predictions)\n",
    "    auroc = roc_auc_score(y_test, predictions)\n",
    "    accuracies[run-1] = accuracy\n",
    "    print(f\"Test Accuracy: {accuracy}\")\n",
    "    print(f\"Test F1: {f1}\")\n",
    "    print(f\"Test AUC: {auroc}\")\n",
    "    cm = confusion_matrix(y_test, predictions, labels = clf.best_estimator_.classes_)\n",
    "    print(cm)\n",
    "    disp = ConfusionMatrixDisplay(confusion_matrix=cm)\n",
    "    disp.plot()\n",
    "    plt.savefig(\"Confusion Matrix Run \" + str(run))\n",
    "    run += 1\n",
    "print(accuracies)\n",
    "print(f\"Mean accuracy: {accuracies.mean()}\")"
   ]
  },
  {
   "cell_type": "code",
   "execution_count": 17,
   "metadata": {},
   "outputs": [
    {
     "name": "stdout",
     "output_type": "stream",
     "text": [
      "CV run 1\n",
      "Get data\n",
      "Perform Randomized Grid Search\n",
      "Fitting 3 folds for each of 1 candidates, totalling 3 fits\n"
     ]
    }
   ],
   "source": [
    "pipeline = Pipeline([(\"vectorizer\", vectorizer), (\"bayes\", MultinomialNB())])\n",
    "clf = RandomizedSearchCV(pipeline, param_grid, n_iter=random_iterations, cv=inner_cv, n_jobs=-1, verbose=3)\n",
    "run = 1\n",
    "accuracies = np.zeros(outer_splits)\n",
    "for train_index, test_index in outer_cv.split(texts):\n",
    "    print(f\"CV run {run}\")\n",
    "    print(\"Get data\")\n",
    "    X_train, X_test = texts[train_index], texts[test_index]\n",
    "    y_train, y_test = labels[train_index], labels[test_index]\n",
    "    print(\"Perform Randomized Grid Search\")\n",
    "    clf.fit(X_train, y_train)\n",
    "    print(\"Best model:\")\n",
    "    print(\"Accuracy: \" + str(clf.best_score_))\n",
    "    print(clf.best_params_)\n",
    "    predictions = clf.predict(X_test)\n",
    "    accuracy = accuracy_score(y_test, predictions)\n",
    "    f1 = f1_score(y_test, predictions)\n",
    "    auroc = roc_auc_score(y_test, predictions)\n",
    "    accuracies[run-1] = accuracy\n",
    "    print(f\"Test Accuracy: {accuracy}\")\n",
    "    print(f\"Test F1: {f1}\")\n",
    "    print(f\"Test AUC: {auroc}\")\n",
    "    cm = confusion_matrix(y_test, predictions, labels = clf.best_estimator_.classes_)\n",
    "    print(cm)\n",
    "    disp = ConfusionMatrixDisplay(confusion_matrix=cm)\n",
    "    disp.plot()\n",
    "    plt.savefig(\"Confusion Matrix Run \" + str(run))\n",
    "    run += 1\n",
    "print(accuracies)\n",
    "print(f\"Mean accuracy: {accuracies.mean()}\")"
   ]
  },
  {
   "cell_type": "code",
   "execution_count": null,
   "metadata": {},
   "outputs": [],
   "source": [
    "pipeline = Pipeline([(\"vectorizer\", vectorizer), (\"svm\", SVC(kernel=\"rbf\"))])\n",
    "clf = RandomizedSearchCV(pipeline, param_grid, n_iter=random_iterations, cv=inner_cv, n_jobs=-1, verbose=3)\n",
    "run = 1\n",
    "accuracies = np.zeros(outer_splits)\n",
    "for train_index, test_index in outer_cv.split(texts):\n",
    "    print(f\"CV run {run}\")\n",
    "    print(\"Get data\")\n",
    "    X_train, X_test = texts[train_index], texts[test_index]\n",
    "    y_train, y_test = labels[train_index], labels[test_index]\n",
    "    print(\"Perform Randomized Grid Search\")\n",
    "    clf.fit(X_train, y_train)\n",
    "    print(\"Best model:\")\n",
    "    print(\"Accuracy: \" + str(clf.best_score_))\n",
    "    print(clf.best_params_)\n",
    "    predictions = clf.predict(X_test)\n",
    "    accuracy = accuracy_score(y_test, predictions)\n",
    "    f1 = f1_score(y_test, predictions)\n",
    "    auroc = roc_auc_score(y_test, predictions)\n",
    "    accuracies[run-1] = accuracy\n",
    "    print(f\"Test Accuracy: {accuracy}\")\n",
    "    print(f\"Test F1: {f1}\")\n",
    "    print(f\"Test AUC: {auroc}\")\n",
    "    cm = confusion_matrix(y_test, predictions, labels = clf.best_estimator_.classes_)\n",
    "    print(cm)\n",
    "    disp = ConfusionMatrixDisplay(confusion_matrix=cm)\n",
    "    disp.plot()\n",
    "    plt.savefig(\"Confusion Matrix Run \" + str(run))\n",
    "    run += 1\n",
    "print(accuracies)\n",
    "print(f\"Mean accuracy: {accuracies.mean()}\")"
   ]
  },
  {
   "cell_type": "markdown",
   "metadata": {},
   "source": [
    "#### BERT"
   ]
  },
  {
   "cell_type": "code",
   "execution_count": 66,
   "metadata": {},
   "outputs": [],
   "source": [
    "if method == \"BERT\":\n",
    "    tfhub_handle_encoder = \"https://tfhub.dev/tensorflow/bert_en_uncased_L-12_H-768_A-12/3\"\n",
    "    tfhub_handle_preprocess = \"https://tfhub.dev/tensorflow/bert_en_uncased_preprocess/3\"\n",
    "\n",
    "    print(f'BERT model selected           : {tfhub_handle_encoder}')\n",
    "    print(f'Preprocess model auto-selected: {tfhub_handle_preprocess}')\n",
    "\n",
    "    \n",
    "    bert_preprocess_model = hub.KerasLayer(tfhub_handle_preprocess)\n",
    "    #if \"OSError: SavedModel file does not exist\" occurs, navigate to the indicated folder and delete it\n",
    "    \n",
    "    text_test = texts\n",
    "    text_preprocessed = bert_preprocess_model(text_test)\n",
    "\n",
    "    #print(text_test)\n",
    "    print(f'Keys       : {list(text_preprocessed.keys())}')\n",
    "    print(f'Shape      : {text_preprocessed[\"input_word_ids\"].shape}')\n",
    "    print(f'Word Ids   : {text_preprocessed[\"input_word_ids\"]}')\n",
    "    print(f'Input Mask : {text_preprocessed[\"input_mask\"]}')\n",
    "    print(f'Type Ids   : {text_preprocessed[\"input_type_ids\"]}')"
   ]
  },
  {
   "cell_type": "markdown",
   "metadata": {},
   "source": [
    "#### DOC2Vec\n",
    "Converting the document into vectors"
   ]
  },
  {
   "cell_type": "code",
   "execution_count": 68,
   "metadata": {},
   "outputs": [
    {
     "name": "stdout",
     "output_type": "stream",
     "text": [
      "sdf\n"
     ]
    }
   ],
   "source": [
    "if method == \"DOC2VEC\":\n",
    "    tagged_texts = []\n",
    "    for i, text in enumerate(texts):\n",
    "            word_tokens = word_tokenize(text)\n",
    "            tagged_texts.append(TaggedDocument(word_tokens, [i]))\n",
    "    cores = multiprocessing.cpu_count()\n",
    "\n",
    "    model = Doc2Vec(dm=0, vector_size=dimension, negative=5, hs=0, min_count=2, sample = 0, workers=cores)\n",
    "    model.build_vocab([x for x in tqdm(tagged_texts)])\n",
    "    for epoch in range(epochs):\n",
    "        model.train(utils.shuffle([x for x in tqdm(tagged_texts)]), total_examples=len(tagged_texts), epochs=1)\n",
    "        model.alpha -= 0.002\n",
    "        model.min_alpha = model.alpha\n",
    "    vector_list = []\n",
    "    for i in range(len(texts)):\n",
    "        vector_list.append(model.dv[i])\n",
    "    all_tokens = scipy.sparse.csr_matrix(vector_list)"
   ]
  },
  {
   "cell_type": "markdown",
   "metadata": {},
   "source": [
    "# Store Results"
   ]
  },
  {
   "cell_type": "code",
   "execution_count": 11,
   "metadata": {},
   "outputs": [],
   "source": [
    "if method == \"TF-IDF\" or method == \"DOC2VEC\":\n",
    "    scipy.sparse.save_npz(\"training_input\", all_tokens)\n",
    "    np.save(\"training_labels\", labels)\n",
    "if method == \"TF-IDF\":\n",
    "    np.save(\"feature_names\", feature_names)\n",
    "\n",
    "if method == \"BERT\":\n",
    "    a_file = open(\"bert_preprocessed.pkl\", \"wb\")\n",
    "    pickle.dump(text_preprocessed, a_file)\n",
    "    a_file.close()\n",
    "    np.save(\"training_labels\", labels)"
   ]
  }
 ],
 "metadata": {
  "interpreter": {
   "hash": "3008482b51f5a95e2ad66327b5a1148e0bb88cb461a0c6926c59de3843ba3656"
  },
  "kernelspec": {
   "display_name": "Python 3.9.12 64-bit (windows store)",
   "language": "python",
   "name": "python3"
  },
  "language_info": {
   "codemirror_mode": {
    "name": "ipython",
    "version": 3
   },
   "file_extension": ".py",
   "mimetype": "text/x-python",
   "name": "python",
   "nbconvert_exporter": "python",
   "pygments_lexer": "ipython3",
   "version": "3.9.12"
  }
 },
 "nbformat": 4,
 "nbformat_minor": 2
}
