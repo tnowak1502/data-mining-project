{
 "cells": [
  {
   "cell_type": "code",
   "execution_count": 1,
   "metadata": {},
   "outputs": [],
   "source": [
    "import numpy as np\n",
    "import pandas as pd\n",
    "import scipy.sparse\n",
    "from sklearn.model_selection import train_test_split\n",
    "from sklearn.svm import SVC\n",
    "from sklearn.model_selection import GridSearchCV, cross_val_score\n",
    "from sklearn.linear_model import LogisticRegression\n",
    "from sklearn.naive_bayes import MultinomialNB\n",
    "from sklearn.metrics import confusion_matrix, accuracy_score, roc_auc_score, f1_score, precision_score, recall_score\n",
    "import pickle\n",
    "import tensorflow as tf\n",
    "from tensorflow import keras\n",
    "import tensorflow_hub as hub\n",
    "import tensorflow_text as text\n",
    "import tensorflow_addons as tfa\n",
    "import pickle\n",
    "import matplotlib.pyplot as plt\n",
    "import json\n",
    "import seaborn as sns"
   ]
  },
  {
   "cell_type": "markdown",
   "metadata": {},
   "source": [
    "#### Confusion Matrix Method\n",
    "Creating a plot for the confusion matrix with variable parameter to be reused"
   ]
  },
  {
   "cell_type": "code",
   "execution_count": 22,
   "metadata": {},
   "outputs": [],
   "source": [
    "def customConfusionMatrix(test, prediction, title): \n",
    "    ax = sns.heatmap(confusion_matrix(test, prediction), annot=True, cmap=\"Blues\")\n",
    "    ax.set_title(title)\n",
    "    ax.set_xlabel('\\n Predicted Values')\n",
    "    ax.set_ylabel('Actual Values')\n",
    "\n",
    "    ax.xaxis.set_ticklabels(['Fake', 'True'])\n",
    "    ax.yaxis.set_ticklabels(['Fake', 'True'])\n",
    "\n",
    "    plt.show()\n",
    "    "
   ]
  },
  {
   "cell_type": "markdown",
   "metadata": {},
   "source": [
    "# BERT"
   ]
  },
  {
   "cell_type": "markdown",
   "metadata": {},
   "source": [
    "Selecting BERT Model and fitting preprocessing model"
   ]
  },
  {
   "cell_type": "code",
   "execution_count": 61,
   "metadata": {},
   "outputs": [
    {
     "name": "stdout",
     "output_type": "stream",
     "text": [
      "BERT model selected           : https://tfhub.dev/tensorflow/small_bert/bert_en_uncased_L-4_H-512_A-8/1\n",
      "Preprocess model auto-selected: https://tfhub.dev/tensorflow/bert_en_uncased_preprocess/3\n"
     ]
    }
   ],
   "source": [
    "tfhub_handle_encoder = \"https://tfhub.dev/tensorflow/small_bert/bert_en_uncased_L-4_H-512_A-8/1\"\n",
    "tfhub_handle_preprocess = \"https://tfhub.dev/tensorflow/bert_en_uncased_preprocess/3\"\n",
    "\n",
    "print(f'BERT model selected           : {tfhub_handle_encoder}')\n",
    "print(f'Preprocess model auto-selected: {tfhub_handle_preprocess}')\n"
   ]
  },
  {
   "cell_type": "markdown",
   "metadata": {},
   "source": [
    "Loading input data (note that this is the preprocessed text, as transformation is performed as part of the model)"
   ]
  },
  {
   "cell_type": "code",
   "execution_count": 2,
   "metadata": {},
   "outputs": [],
   "source": [
    "X = pd.read_csv(\"preprocessed_texts.csv\")\n",
    "X = X[\"text\"].to_numpy()\n",
    "y = np.load(\"preprocessed_labels.npy\", allow_pickle = True)"
   ]
  },
  {
   "cell_type": "markdown",
   "metadata": {},
   "source": [
    "Create train/test split and convert data into datasets"
   ]
  },
  {
   "cell_type": "code",
   "execution_count": 3,
   "metadata": {},
   "outputs": [],
   "source": [
    "X_train, X_test, y_train, y_test = train_test_split(X, y, test_size=0.25, random_state=42)\n",
    "\n",
    "train_ds = tf.data.Dataset.from_tensor_slices((X_train, y_train))\n",
    "val_ds = tf.data.Dataset.from_tensor_slices((X_test, y_test))"
   ]
  },
  {
   "cell_type": "markdown",
   "metadata": {},
   "source": [
    "Batch datasets"
   ]
  },
  {
   "cell_type": "code",
   "execution_count": 4,
   "metadata": {},
   "outputs": [],
   "source": [
    "BATCH_SIZE = 64\n",
    "SHUFFLE_BUFFER_SIZE = 100\n",
    "\n",
    "train_ds = train_ds.shuffle(SHUFFLE_BUFFER_SIZE).batch(BATCH_SIZE)\n",
    "val_ds = val_ds.batch(BATCH_SIZE)"
   ]
  },
  {
   "cell_type": "markdown",
   "metadata": {},
   "source": [
    "Specification of the Classifier Model"
   ]
  },
  {
   "cell_type": "code",
   "execution_count": 6,
   "metadata": {},
   "outputs": [],
   "source": [
    "def build_classifier_model():\n",
    "  text_input = tf.keras.layers.Input(shape=(), dtype=tf.string, name='text')\n",
    "  preprocessing_layer = hub.KerasLayer(tfhub_handle_preprocess, name='preprocessing')\n",
    "  encoder_inputs = preprocessing_layer(text_input)\n",
    "  encoder = hub.KerasLayer(tfhub_handle_encoder, trainable=True, name='BERT_encoder')\n",
    "  outputs = encoder(encoder_inputs)\n",
    "  net = outputs['pooled_output']\n",
    "  #dropout helps prevent overfitting\n",
    "  net = tf.keras.layers.Dropout(0.1)(net)\n",
    "  net = tf.keras.layers.Dense(1, activation=None, name='classifier')(net)\n",
    "  return tf.keras.Model(text_input, net)"
   ]
  },
  {
   "cell_type": "markdown",
   "metadata": {},
   "source": [
    "Create model, define training parameters"
   ]
  },
  {
   "cell_type": "code",
   "execution_count": 7,
   "metadata": {},
   "outputs": [],
   "source": [
    "classifier_model = build_classifier_model()\n",
    "loss = tf.keras.losses.BinaryCrossentropy(from_logits=True)\n",
    "metrics = tf.metrics.BinaryAccuracy()\n",
    "epochs = 5\n",
    "\n",
    "init_lr = 3e-5\n",
    "optimizer=tfa.optimizers.AdamW(learning_rate=init_lr, weight_decay=0.001)\n",
    "classifier_model.compile(optimizer=optimizer,\n",
    "                         loss=loss,\n",
    "                         metrics=metrics)"
   ]
  },
  {
   "cell_type": "markdown",
   "metadata": {},
   "source": [
    "Training"
   ]
  },
  {
   "cell_type": "code",
   "execution_count": 8,
   "metadata": {
    "scrolled": true
   },
   "outputs": [
    {
     "name": "stdout",
     "output_type": "stream",
     "text": [
      "Training model with https://tfhub.dev/tensorflow/small_bert/bert_en_uncased_L-4_H-512_A-8/1\n",
      "Epoch 1/5\n",
      "527/527 [==============================] - 3635s 7s/step - loss: 0.0326 - binary_accuracy: 0.9885 - val_loss: 0.0117 - val_binary_accuracy: 0.9979\n",
      "Epoch 2/5\n",
      "527/527 [==============================] - 3615s 7s/step - loss: 0.0261 - binary_accuracy: 0.9933 - val_loss: 0.1643 - val_binary_accuracy: 0.9582\n",
      "Epoch 3/5\n",
      "527/527 [==============================] - 3599s 7s/step - loss: 0.0261 - binary_accuracy: 0.9935 - val_loss: 0.0188 - val_binary_accuracy: 0.9960\n",
      "Epoch 4/5\n",
      "527/527 [==============================] - 3619s 7s/step - loss: 0.0245 - binary_accuracy: 0.9949 - val_loss: 0.0332 - val_binary_accuracy: 0.9912\n",
      "Epoch 5/5\n",
      "527/527 [==============================] - 3614s 7s/step - loss: 0.0333 - binary_accuracy: 0.9922 - val_loss: 0.0325 - val_binary_accuracy: 0.9933\n"
     ]
    }
   ],
   "source": [
    "print(f'Training model with {tfhub_handle_encoder}')\n",
    "history = classifier_model.fit(x=train_ds,\n",
    "                               validation_data=val_ds,\n",
    "                               epochs=epochs)"
   ]
  },
  {
   "cell_type": "markdown",
   "metadata": {},
   "source": [
    "Evaluation"
   ]
  },
  {
   "cell_type": "code",
   "execution_count": 9,
   "metadata": {
    "scrolled": true
   },
   "outputs": [
    {
     "name": "stdout",
     "output_type": "stream",
     "text": [
      "176/176 [==============================] - 296s 2s/step - loss: 0.0325 - binary_accuracy: 0.9933\n",
      "Loss: 0.03247758001089096\n",
      "Accuracy: 0.993318498134613\n"
     ]
    }
   ],
   "source": [
    "loss, accuracy = classifier_model.evaluate(val_ds)\n",
    "\n",
    "print(f'Loss: {loss}')\n",
    "print(f'Accuracy: {accuracy}')"
   ]
  },
  {
   "cell_type": "markdown",
   "metadata": {},
   "source": [
    "Plot training history"
   ]
  },
  {
   "cell_type": "code",
   "execution_count": 13,
   "metadata": {
    "scrolled": false
   },
   "outputs": [
    {
     "name": "stdout",
     "output_type": "stream",
     "text": [
      "dict_keys(['loss', 'binary_accuracy', 'val_loss', 'val_binary_accuracy'])\n"
     ]
    },
    {
     "data": {
      "image/png": "[encoded data removed]",
      "text/plain": [
       "<Figure size 720x432 with 2 Axes>"
      ]
     },
     "metadata": {
      "needs_background": "light"
     },
     "output_type": "display_data"
    }
   ],
   "source": [
    "history_dict = history.history\n",
    "print(history_dict.keys())\n",
    "\n",
    "acc = history_dict['binary_accuracy']\n",
    "val_acc = history_dict['val_binary_accuracy']\n",
    "loss = history_dict['loss']\n",
    "val_loss = history_dict['val_loss']\n",
    "\n",
    "epochs = range(1, len(acc) + 1)\n",
    "fig = plt.figure(figsize=(10, 6))\n",
    "fig.tight_layout()\n",
    "\n",
    "plt.subplot(2, 1, 1)\n",
    "# r is for \"solid red line\"\n",
    "plt.plot(epochs, loss, 'r', label='Training loss')\n",
    "# b is for \"solid blue line\"\n",
    "plt.plot(epochs, val_loss, 'b', label='Validation loss')\n",
    "plt.title('Training and validation loss')\n",
    "# plt.xlabel('Epochs')\n",
    "plt.ylabel('Loss')\n",
    "plt.legend()\n",
    "\n",
    "plt.subplot(2, 1, 2)\n",
    "plt.plot(epochs, acc, 'r', label='Training accuracy')\n",
    "plt.plot(epochs, val_acc, 'b', label='Validation accuracy')\n",
    "plt.title('Training and validation accuracy')\n",
    "plt.xlabel('Epochs')\n",
    "plt.ylabel('Accuracy')\n",
    "plt.legend(loc='lower right')\n",
    "plt.show()"
   ]
  },
  {
   "cell_type": "markdown",
   "metadata": {},
   "source": [
    "Save Model"
   ]
  },
  {
   "cell_type": "code",
   "execution_count": 12,
   "metadata": {
    "scrolled": false
   },
   "outputs": [
    {
     "name": "stderr",
     "output_type": "stream",
     "text": [
      "WARNING:absl:Found untraced functions such as restored_function_body, restored_function_body, restored_function_body, restored_function_body, restored_function_body while saving (showing 5 of 124). These functions will not be directly callable after loading.\n"
     ]
    },
    {
     "name": "stdout",
     "output_type": "stream",
     "text": [
      "INFO:tensorflow:Assets written to: BERT Model\\assets\n"
     ]
    },
    {
     "name": "stderr",
     "output_type": "stream",
     "text": [
      "INFO:tensorflow:Assets written to: BERT Model\\assets\n"
     ]
    }
   ],
   "source": [
    "classifier_model.save(\"BERT Model\")"
   ]
  },
  {
   "cell_type": "markdown",
   "metadata": {},
   "source": [
    "Reload saved model"
   ]
  },
  {
   "cell_type": "code",
   "execution_count": 5,
   "metadata": {},
   "outputs": [],
   "source": [
    "classifier_model = keras.models.load_model(\"BERT Model\")"
   ]
  },
  {
   "cell_type": "markdown",
   "metadata": {},
   "source": [
    "Example testing"
   ]
  },
  {
   "cell_type": "code",
   "execution_count": 23,
   "metadata": {
    "scrolled": true
   },
   "outputs": [
    {
     "name": "stdout",
     "output_type": "stream",
     "text": [
      "input: u.s. , north korea c           : score: 0.989009\n",
      "input: republicans respond            : score: 0.010479\n",
      "\n"
     ]
    }
   ],
   "source": [
    "def print_my_examples(inputs, results):\n",
    "  result_for_printing = \\\n",
    "    [f'input: {inputs[i][:20]:<30} : score: {results[i][0]:.6f}'\n",
    "                         for i in range(len(inputs))]\n",
    "  print(*result_for_printing, sep='\\n')\n",
    "  print()\n",
    "\n",
    "#Note: Examples must come from preprocessed_text.csv, not from the raw texts\n",
    "examples = [\n",
    "    \"u.s. , north korea clash u.n. forum nuclear weapons ( ) - north korea united states clashed u.n. forum military intentions towards one another , pyongyang envoy declaring would never put nuclear deterrent negotiating table . japan , well within reach north korea missiles , world must maintain pressure reclusive country rein nuclear missile programs time resumption multi-party talks . north korea pursued weapons programs defiance u.n. security council sanctions ignored calls , including major ally china , stop , prompting bellicose exchange rhetoric north united states . north korea justifies weapons programs , including recent threat fire missiles towards u.s. pacific territory guam , pointing perceived u.s. hostility , military exercises south korea week . u.s. disarmament ambassador robert wood told u.n.-sponsored conference disarmament u.s. president top priority protect united states allies growing threat north korea america ready use full range capabilities disposal . path dialogue still remained option pyongyang choice poverty belligerence one hand prosperity acceptance . north korea envoy told forum north nuclear deterrent would never negotiation , echoing pyongyang regular denunciation u.s. aggression . measures taken dprk strengthen nuclear deterrence develop inter-continental rockets justifiable legitimate option self-defense face apparent real threats , diplomat ju yong chol told forum , referring constant nuclear threats united states . dprk stands north official name , democratic people republic korea . regarding joint u.s.-south korean military exercises began , warned : ongoing military adventure would certainly add gasoline fire , driving current tense situation deterioration . japanese foreign minister taro kono pressure must maintained north demonstrated would give nuclear program . time discuss ( resumption ) six-party talks , kono , referring stalled negotiations involving koreas , united states , russia , china japan . time exert pressure , told reporters . head u.s. military pacific command diplomacy key . admiral harry harris south korea observe annual joint military drills south korean military , north called step towards nuclear conflict masterminded war maniacs . hope work diplomatic solutions challenge presented kim jong un , harris told reporters u.s. air base osan , hour seoul , referring north korean leader . diplomacy important starting point response north threat , asked actions north korea might trigger preemptive u.s. strike . far timeline , would crazy share tripwires advance . , would hardly military strategy , . united states south korea began long-planned exercises , called ulchi freedom guardian , allies purely defensive . drills involve tens thousands troops well computer simulations designed prepare war nuclear-capable north korea . united states south korea technically still war north 1950-53 conflict ended truce , peace treaty . delegations 20 countries spoke four-hour u.n. session , including britain , france , australia south korea , criticized north korea . would like repeat appeal dprk listen fact alternative stopping different provocations return dialogue , south korean ambassador kim inchul . never threatened dprk attacks never promoted use force . \",\n",
    "    \"republicans respond â€™ threats , presidency freefall ( ) one takes seriously anymore . majority americans voted , good portion regretful voters , even members party helped get elected could push agenda forward . right become joke many members republican party , knows . fact , throwing tantrum trying get attention . matter , working . lost good.trump recently resorted making threats republican lawmakers try show boss , afraid anymore . special counsel robert mueller investigation russia closing , gop actually ignoring listening , according report vanity fair.on , mueller decided impanel grand jury russia investigation , signaling many republicans needed act quickly prevent sabotaging effort . sen. thom tillis ( r-nc ) told post : mueller situation really gave rise thinking address , address current situation . mueller targeting healthcare table many failures ( even though still demanding gopers work legislation ) , republicans moving . vanity fair reported : republicans used afraid . , mostly ignoring . administration ham-handed attempts coerce senators dean heller lisa murkowski vote yes obamacare repeal met sharp criticism republican lawmakers . threats aftermath failed health-care vote last week fell deaf ears . sen. bob corker ( r-tn ) also cited comments bullying republican lawmakers healthcare debacle . corker : wants , ought . [ ] probably learned last couple weeks , threats really go particularly well . advice would either . gop finally growing spine abandoning , inevitably sink ship . threats falling deaf ears now.featured via jeff j mitchell /getty \"\n",
    "]\n",
    "\n",
    "results = tf.sigmoid(classifier_model.predict(examples))\n",
    "\n",
    "print_my_examples(examples, results)\n"
   ]
  },
  {
   "cell_type": "markdown",
   "metadata": {},
   "source": [
    "Calcuate confusion matrix and various scores"
   ]
  },
  {
   "cell_type": "code",
   "execution_count": 6,
   "metadata": {
    "scrolled": true
   },
   "outputs": [],
   "source": [
    "#raw outputs\n",
    "bert_test = y_test\n",
    "#convert to values between 0 and 1\n",
    "bert_pred = tf.sigmoid(classifier_model.predict(X_test))\n",
    "#round to be able to run evaluations\n",
    "bert_pred_rounded = np.around(bert_pred)"
   ]
  },
  {
   "cell_type": "code",
   "execution_count": 24,
   "metadata": {
    "scrolled": true
   },
   "outputs": [
    {
     "data": {
      "image/png": "[encoded data removed]",
      "text/plain": [
       "<Figure size 432x288 with 2 Axes>"
      ]
     },
     "metadata": {
      "needs_background": "light"
     },
     "output_type": "display_data"
    }
   ],
   "source": [
    "customConfusionMatrix(bert_test, bert_pred_rounded, \"Confusion Matrix with BERT\")"
   ]
  },
  {
   "cell_type": "code",
   "execution_count": 12,
   "metadata": {
    "scrolled": true
   },
   "outputs": [
    {
     "name": "stdout",
     "output_type": "stream",
     "text": [
      "0.9934966592427616\n",
      "0.993529591490865\n",
      "0.9931590291444101\n",
      "0.9921363040629095\n",
      "0.9941838649155722\n"
     ]
    }
   ],
   "source": [
    "print(accuracy_score(bert_test, bert_pred_rounded, normalize=True))\n",
    "print(roc_auc_score(bert_test, bert_pred_rounded))\n",
    "print(f1_score(bert_test, bert_pred_rounded))\n",
    "print(precision_score(bert_test, bert_pred_rounded))\n",
    "print(recall_score(bert_test, bert_pred_rounded))"
   ]
  }
 ],
 "metadata": {
  "interpreter": {
   "hash": "3008482b51f5a95e2ad66327b5a1148e0bb88cb461a0c6926c59de3843ba3656"
  },
  "kernelspec": {
   "display_name": "Python 3",
   "language": "python",
   "name": "python3"
  },
  "language_info": {
   "codemirror_mode": {
    "name": "ipython",
    "version": 3
   },
   "file_extension": ".py",
   "mimetype": "text/x-python",
   "name": "python",
   "nbconvert_exporter": "python",
   "pygments_lexer": "ipython3",
   "version": "3.8.8"
  }
 },
 "nbformat": 4,
 "nbformat_minor": 2
}
