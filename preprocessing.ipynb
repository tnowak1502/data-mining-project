{
 "cells": [
  {
   "cell_type": "markdown",
   "metadata": {},
   "source": [
    "# Preprocessing the Kaggle Data\n",
    "\n",
    "## 1. Imports \n",
    "\n",
    "Steps:\n",
    "1. Import \"pandas\" to import a .csv file from the file system.\n",
    "2. Import \"TfidfVectorizer\" to convert a collection of raw documents to a matrix of TF-IDF features.\n",
    "3. Import \"CountVectorizer\" to convert a collection of text documents to a matrix of token counts."
   ]
  },
  {
   "cell_type": "code",
   "execution_count": 2,
   "metadata": {},
   "outputs": [
    {
     "name": "stderr",
     "output_type": "stream",
     "text": [
      "[nltk_data] Downloading package stopwords to\n",
      "[nltk_data]     C:\\Users\\nicla\\AppData\\Roaming\\nltk_data...\n",
      "[nltk_data]   Package stopwords is already up-to-date!\n",
      "[nltk_data] Downloading package punkt to\n",
      "[nltk_data]     C:\\Users\\nicla\\AppData\\Roaming\\nltk_data...\n",
      "[nltk_data]   Package punkt is already up-to-date!\n"
     ]
    }
   ],
   "source": [
    "import pandas as pd\n",
    "import numpy as np\n",
    "\n",
    "# Critical Imports\n",
    "from sklearn.pipeline import Pipeline\n",
    "from sklearn.pipeline import TransformerMixin \n",
    "\n",
    "from nltk.corpus import stopwords\n",
    "from nltk.tokenize import word_tokenize\n",
    "from nltk.stem.porter import PorterStemmer\n",
    "from nltk.stem.snowball import SnowballStemmer\n",
    "import nltk\n",
    "\n",
    "\n",
    "nltk.download('stopwords')\n",
    "nltk.download(\"punkt\")\n",
    "import json"
   ]
  },
  {
   "cell_type": "markdown",
   "metadata": {},
   "source": [
    "## 2. Read file\n",
    "\n",
    "Steps: \n",
    "1. Importing datasets ( https://www.kaggle.com/code/vpkprasanna/basic-text-cleaning-wordcloud-and-n-gram-analysis#Merging-true-and-fake-news-dataset )\n",
    "2. Converting datasets\n",
    "3. Combining datasets"
   ]
  },
  {
   "cell_type": "code",
   "execution_count": null,
   "metadata": {},
   "outputs": [],
   "source": [
    "\n",
    "# importing the fake and the true dataset from the file system\n",
    "fake = pd.read_csv(\"Fake.csv\")\n",
    "true = pd.read_csv(\"True.csv\")\n",
    "\n",
    "# Convert each text of a dataset to a NumPy Array\n",
    "fake_texts = fake[\"text\"].to_numpy()\n",
    "true_texts = true[\"text\"].to_numpy()\n",
    "\n",
    "\n",
    "# Combine both texts to a single text\n",
    "all_texts = np.append(fake_texts, values=true_texts)\n",
    "#Create variable with 0 and 1 dependent on the length of the text arrays\n",
    "labels = np.append(np.zeros(len(fake_texts)), np.ones(len(true_texts)))"
   ]
  },
  {
   "cell_type": "markdown",
   "metadata": {},
   "source": [
    "## 3. Preprocessing\n",
    "Steps:\n",
    "1. Converting Texts to lowercase \n",
    "2. Stopword Removal\n",
    "3. Delete \"Reuters\"\n",
    "4. Stemming\n",
    "5. Pruning\n",
    "6. Removing Twitter's '@' and dates (e.g. \"Donald J. Trump (@realDonaldTrump) December 31, 2017Trump\")\n",
    "7. Store Preprocessing results\n"
   ]
  },
  {
   "cell_type": "markdown",
   "metadata": {},
   "source": [
    "### Preprossing Configuration\n",
    "Here you can define the preprossesing configuration "
   ]
  },
  {
   "cell_type": "code",
   "execution_count": 10,
   "metadata": {},
   "outputs": [
    {
     "name": "stdout",
     "output_type": "stream",
     "text": [
      "{'lowercase': 'True', 'stemmer': None}\n"
     ]
    }
   ],
   "source": [
    "lowercase = True\n",
    "replace = [\n",
    "    [\"\\u201c\", '\"'],\n",
    "]\n",
    "remove = [\n",
    "    \"Reuters\",\n",
    "    \"@\",\n",
    "    \"Donald\",\n",
    "    \"J.\",\n",
    "    \"Trump\"\n",
    "]\n",
    "with open(\"config.json\", \"w\") as outfile:\n",
    "    outfile.write(json.dumps({}))\n",
    "stemmer = None # None | \"porter\" | \"snowball\"\n",
    "with open('config.json', 'r') as openfile:\n",
    "    json_object = json.load(openfile)\n",
    "    json_object[\"lowercase\"] = str(lowercase)\n",
    "    json_object[\"stemmer\"] = stemmer\n",
    "print(json_object)\n",
    "with open(\"config.json\", \"w\") as outfile:\n",
    "    outfile.write(json.dumps(json_object))"
   ]
  },
  {
   "cell_type": "markdown",
   "metadata": {},
   "source": [
    "### Text to lowercase transformer\n",
    "This transformer can transform a text to lowercase"
   ]
  },
  {
   "cell_type": "code",
   "execution_count": null,
   "metadata": {},
   "outputs": [],
   "source": [
    "from sklearn.base import BaseEstimator, TransformerMixin\n",
    "\n",
    "class LowerCaseTransformer(TransformerMixin):\n",
    "    def fit(self, X, y=None):\n",
    "        return self\n",
    "\n",
    "    def transform(self, X, y=None):\n",
    "        result = []\n",
    "        for x in X:\n",
    "            processed = x.lower()\n",
    "            result.append(processed)\n",
    "        return np.array(result)"
   ]
  },
  {
   "cell_type": "markdown",
   "metadata": {},
   "source": [
    "### Replace similar words transformer\n",
    "This transformer replaces words or regular expression by other words"
   ]
  },
  {
   "cell_type": "code",
   "execution_count": null,
   "metadata": {},
   "outputs": [],
   "source": [
    "class WordReplacementTransformer(TransformerMixin):\n",
    "    replace = []\n",
    "\n",
    "    def __init__(self, replace):\n",
    "        self.replace = replace\n",
    "\n",
    "    def fit(self, X, y=None):\n",
    "        return self\n",
    "\n",
    "    def transform(self, X, y=None):            \n",
    "        result = []\n",
    "        for x in X:\n",
    "            processed = x\n",
    "            for replace in self.replace:\n",
    "                processed = processed.replace(replace[0], replace[1])\n",
    "            result.append(processed)\n",
    "        return np.array(result)"
   ]
  },
  {
   "cell_type": "markdown",
   "metadata": {},
   "source": [
    "### Stopword Removal"
   ]
  },
  {
   "cell_type": "code",
   "execution_count": null,
   "metadata": {},
   "outputs": [],
   "source": [
    "from sklearn.base import TransformerMixin\n",
    "\n",
    "class StopwordTransformer(TransformerMixin):\n",
    "    stop_words = set(stopwords.words('english'))\n",
    "\n",
    "    def __init__(self, extra_words):\n",
    "        for word in extra_words:\n",
    "            self.stop_words.add(word.lower())\n",
    "\n",
    "    def fit(self, X, y= None):\n",
    "        return self\n",
    "\n",
    "    def transform(self, X, y=None):\n",
    "        result = []\n",
    "        for x in X:\n",
    "            word_tokens = word_tokenize(x)\n",
    "            filtered_sentence = [w for w in word_tokens if not w.lower() in self.stop_words]\n",
    "            result_text = \"\"\n",
    "            for word in filtered_sentence:\n",
    "                result_text += word + \" \"\n",
    "            result.append(result_text)\n",
    "        return np.array(result)\n"
   ]
  },
  {
   "cell_type": "markdown",
   "metadata": {},
   "source": [
    "### Stemming Transformer"
   ]
  },
  {
   "cell_type": "code",
   "execution_count": null,
   "metadata": {},
   "outputs": [],
   "source": [
    "class StemmingTransformer(TransformerMixin):\n",
    "\n",
    "    def __init__(self, stemmer_name):\n",
    "        if (stemmer_name == \"porter\"):\n",
    "            self.stemmer = PorterStemmer()\n",
    "        else:\n",
    "            self.stemmer = SnowballStemmer(\"english\")\n",
    "\n",
    "    def fit(self, X, y= None):\n",
    "        return self\n",
    "\n",
    "    def transform(self, X, y=None):\n",
    "        result = []\n",
    "        for x in X:\n",
    "            word_tokens = word_tokenize(x)\n",
    "            stemmed_sentence = [self.stemmer.stem(word) for word in word_tokens]\n",
    "            result_text = \"\"\n",
    "            for word in stemmed_sentence:\n",
    "                result_text += word + \" \"\n",
    "            result.append(result_text)\n",
    "        return np.array(result)\n"
   ]
  },
  {
   "cell_type": "markdown",
   "metadata": {},
   "source": [
    "### Run preprossesing"
   ]
  },
  {
   "cell_type": "code",
   "execution_count": null,
   "metadata": {},
   "outputs": [],
   "source": [
    "test_texts = np.array(all_texts)\n",
    "\n",
    "steps = []\n",
    "\n",
    "if lowercase:\n",
    "    steps.append((\"to_lowercase\", LowerCaseTransformer()))\n",
    "\n",
    "steps.append((\"replace_words\", WordReplacementTransformer(replace=replace)))\n",
    "steps.append((\"remove_stopwords\", StopwordTransformer(extra_words=remove)))\n",
    "\n",
    "if (stemmer == \"porter\"):\n",
    "    steps.append((\"use_porter_stemmer\", StemmingTransformer(\"porter\")))\n",
    "if stemmer == \"snowball\":\n",
    "    steps.append((\"use_snowball_stemmer\", StemmingTransformer(\"snowball\")))\n",
    "\n",
    "pipe = Pipeline(\n",
    "    steps=steps\n",
    ")\n",
    "\n",
    "transformed = pipe.fit_transform(test_texts)"
   ]
  },
  {
   "cell_type": "markdown",
   "metadata": {},
   "source": [
    "### Store preprocessing results\n",
    "The preprocessed texts and the label array are stored together"
   ]
  },
  {
   "cell_type": "code",
   "execution_count": null,
   "metadata": {},
   "outputs": [],
   "source": [
    "np.save(\"preprocessed_texts\", transformed)\n",
    "np.save(\"preprocessed_labels\", labels)"
   ]
  }
 ],
 "metadata": {
  "interpreter": {
   "hash": "3482ef3323ad09bbcf0e8d550b08b88f7234f6ea94425e7e69b98a6bf876e57c"
  },
  "kernelspec": {
   "display_name": "Python 3",
   "language": "python",
   "name": "python3"
  },
  "language_info": {
   "codemirror_mode": {
    "name": "ipython",
    "version": 3
   },
   "file_extension": ".py",
   "mimetype": "text/x-python",
   "name": "python",
   "nbconvert_exporter": "python",
   "pygments_lexer": "ipython3",
   "version": "3.9.7"
  }
 },
 "nbformat": 4,
 "nbformat_minor": 2
}
