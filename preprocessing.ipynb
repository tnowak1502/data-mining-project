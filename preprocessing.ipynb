{
 "cells": [
  {
   "cell_type": "code",
   "execution_count": 4,
   "metadata": {},
   "outputs": [],
   "source": [
    "import pandas as pd\n",
    "import numpy as np"
   ]
  },
  {
   "cell_type": "markdown",
   "metadata": {},
   "source": [
    "## Read file"
   ]
  },
  {
   "cell_type": "code",
   "execution_count": 5,
   "metadata": {},
   "outputs": [],
   "source": [
    "\n",
    "fake = pd.read_csv(\"Fake.csv\")\n",
    "true = pd.read_csv(\"True.csv\")\n",
    "fake_texts = fake[\"text\"].to_numpy()\n",
    "true_texts = true[\"text\"].to_numpy()\n",
    "\n",
    "all_texts = np.append(fake_texts, values=true_texts)\n",
    "labels = np.append(np.zeros(len(fake_texts)), np.ones(len(true_texts)))"
   ]
  },
  {
   "cell_type": "markdown",
   "metadata": {},
   "source": [
    "## Preprocessing\n",
    "Insert preprocessing code here"
   ]
  },
  {
   "cell_type": "markdown",
   "metadata": {},
   "source": [
    "Configuration for preprossing"
   ]
  },
  {
   "cell_type": "code",
   "execution_count": null,
   "metadata": {},
   "outputs": [],
   "source": [
    "lowercase = False\n",
    "stopwords = [\"Reuters\"]"
   ]
  },
  {
   "cell_type": "markdown",
   "metadata": {},
   "source": [
    "https://www.kaggle.com/code/vpkprasanna/basic-text-cleaning-wordcloud-and-n-gram-analysis#Merging-true-and-fake-news-dataset\n",
    "\n",
    "Preprosessing Steps:\n",
    "- Delete \"Reuters\"\n",
    "- Stopword Removal\n",
    "- Stemming\n",
    "- Convert words to lowercase"
   ]
  },
  {
   "cell_type": "markdown",
   "metadata": {},
   "source": [
    "## Store preprocessing results\n",
    "The preprossed texts and the label array are stored together"
   ]
  },
  {
   "cell_type": "code",
   "execution_count": 7,
   "metadata": {},
   "outputs": [],
   "source": [
    "np.save(\"preprocessed_texts\", all_texts)\n",
    "np.save(\"preprocessed_labels\", labels)"
   ]
  }
 ],
 "metadata": {
  "interpreter": {
   "hash": "f51407d5e6c0c235947a8c224cba5ff40522160ec4fcd13db58d05d1d9585e54"
  },
  "kernelspec": {
   "display_name": "Python 3.9.7 ('classification')",
   "language": "python",
   "name": "python3"
  },
  "language_info": {
   "codemirror_mode": {
    "name": "ipython",
    "version": 3
   },
   "file_extension": ".py",
   "mimetype": "text/x-python",
   "name": "python",
   "nbconvert_exporter": "python",
   "pygments_lexer": "ipython3",
   "version": "3.9.7"
  },
  "orig_nbformat": 4
 },
 "nbformat": 4,
 "nbformat_minor": 2
}
